{
 "cells": [
  {
   "cell_type": "markdown",
   "metadata": {},
   "source": [
    "# Decision Trees"
   ]
  },
  {
   "cell_type": "code",
   "execution_count": 47,
   "metadata": {},
   "outputs": [],
   "source": [
    "#Imports\n",
    "import pandas as pd\n",
    "import numpy as np\n",
    "import matplotlib.pyplot as plt\n",
    "import graphviz \n",
    "\n",
    "from sklearn.model_selection import train_test_split,GridSearchCV,RepeatedStratifiedKFold\n",
    "from sklearn import metrics\n",
    "from sklearn.metrics import ConfusionMatrixDisplay\n",
    "from sklearn.preprocessing import OrdinalEncoder\n",
    "from sklearn.tree import DecisionTreeClassifier, export_graphviz "
   ]
  },
  {
   "cell_type": "markdown",
   "metadata": {},
   "source": [
    "### CART Example using Sklearn: Use a new Dataset, complete preprocessing, use three data\n",
    "### partitions: Training, Tuning and Testing, and build a model!"
   ]
  },
  {
   "cell_type": "code",
   "execution_count": 48,
   "metadata": {},
   "outputs": [],
   "source": [
    "#Read in the data from the github repo, you should also have this saved locally...\n",
    "winequality = pd.read_csv(\"https://raw.githubusercontent.com/UVADS/DS-3001/main/data/winequality-red-ddl.csv\")"
   ]
  },
  {
   "cell_type": "code",
   "execution_count": 49,
   "metadata": {},
   "outputs": [
    {
     "name": "stdout",
     "output_type": "stream",
     "text": [
      "<class 'pandas.core.frame.DataFrame'>\n",
      "RangeIndex: 1599 entries, 0 to 1598\n",
      "Data columns (total 13 columns):\n",
      " #   Column                Non-Null Count  Dtype  \n",
      "---  ------                --------------  -----  \n",
      " 0   fixed acidity         1599 non-null   float64\n",
      " 1   volatile acidity      1575 non-null   float64\n",
      " 2   citric acid           1595 non-null   float64\n",
      " 3   residual sugar        1586 non-null   float64\n",
      " 4   chlorides             1587 non-null   float64\n",
      " 5   free sulfur dioxide   1583 non-null   float64\n",
      " 6   total sulfur dioxide  1574 non-null   float64\n",
      " 7   density               1579 non-null   float64\n",
      " 8   pH                    1597 non-null   float64\n",
      " 9   sulphates             1591 non-null   float64\n",
      " 10  alcohol               1589 non-null   float64\n",
      " 11  quality               1581 non-null   float64\n",
      " 12  text_rank             1581 non-null   object \n",
      "dtypes: float64(12), object(1)\n",
      "memory usage: 162.5+ KB\n",
      "None\n",
      "   fixed acidity  volatile acidity  citric acid  residual sugar  chlorides  \\\n",
      "0           11.6             0.580         0.66            2.20      0.074   \n",
      "1           10.4             0.610         0.49            2.10      0.200   \n",
      "2            7.4             1.185         0.00            4.25      0.097   \n",
      "3           10.4             0.440         0.42            1.50      0.145   \n",
      "4            8.3             1.020         0.02            3.40      0.084   \n",
      "\n",
      "   free sulfur dioxide  total sulfur dioxide  density    pH  sulphates  \\\n",
      "0                 10.0                  47.0  1.00080  3.25       0.57   \n",
      "1                  5.0                  16.0  0.99940  3.16       0.63   \n",
      "2                  5.0                  14.0  0.99660  3.63       0.54   \n",
      "3                 34.0                  48.0  0.99832  3.38       0.86   \n",
      "4                  6.0                  11.0  0.99892  3.48       0.49   \n",
      "\n",
      "   alcohol  quality text_rank  \n",
      "0      9.0      3.0      poor  \n",
      "1      8.4      3.0      poor  \n",
      "2     10.7      3.0      poor  \n",
      "3      9.9      3.0      poor  \n",
      "4     11.0      3.0      poor  \n"
     ]
    }
   ],
   "source": [
    "#Let's take a look...\n",
    "print(winequality.info())\n",
    "print(winequality.head())"
   ]
  },
  {
   "cell_type": "code",
   "execution_count": 50,
   "metadata": {},
   "outputs": [
    {
     "name": "stdout",
     "output_type": "stream",
     "text": [
      "ave            678\n",
      "average-ish    630\n",
      "good           193\n",
      "poor-ish        53\n",
      "excellent       17\n",
      "poor            10\n",
      "Name: text_rank, dtype: int64\n"
     ]
    }
   ],
   "source": [
    "#This will be our target variable\n",
    "print(winequality.text_rank.value_counts())"
   ]
  },
  {
   "cell_type": "markdown",
   "metadata": {},
   "source": [
    "## Preprocessing"
   ]
  },
  {
   "cell_type": "code",
   "execution_count": 51,
   "metadata": {},
   "outputs": [],
   "source": [
    "#drop qaulity column since it predicts text_rank perfectly\n",
    "winequality= winequality.drop(columns='quality')"
   ]
  },
  {
   "cell_type": "markdown",
   "metadata": {},
   "source": [
    "## Missing Data "
   ]
  },
  {
   "cell_type": "code",
   "execution_count": 52,
   "metadata": {},
   "outputs": [
    {
     "name": "stdout",
     "output_type": "stream",
     "text": [
      "fixed acidity            0\n",
      "volatile acidity        24\n",
      "citric acid              4\n",
      "residual sugar          13\n",
      "chlorides               12\n",
      "free sulfur dioxide     16\n",
      "total sulfur dioxide    25\n",
      "density                 20\n",
      "pH                       2\n",
      "sulphates                8\n",
      "alcohol                 10\n",
      "text_rank               18\n",
      "dtype: int64\n"
     ]
    }
   ],
   "source": [
    "#Let's see if we have any NA's\n",
    "print(winequality.isna().sum()) #show location of NA's by variable"
   ]
  },
  {
   "cell_type": "code",
   "execution_count": 53,
   "metadata": {},
   "outputs": [],
   "source": [
    "#Let's just drop them\n",
    "winequality= winequality.dropna()"
   ]
  },
  {
   "cell_type": "code",
   "execution_count": 54,
   "metadata": {},
   "outputs": [
    {
     "name": "stdout",
     "output_type": "stream",
     "text": [
      "<class 'pandas.core.frame.DataFrame'>\n",
      "Int64Index: 1482 entries, 0 to 1580\n",
      "Data columns (total 12 columns):\n",
      " #   Column                Non-Null Count  Dtype  \n",
      "---  ------                --------------  -----  \n",
      " 0   fixed acidity         1482 non-null   float64\n",
      " 1   volatile acidity      1482 non-null   float64\n",
      " 2   citric acid           1482 non-null   float64\n",
      " 3   residual sugar        1482 non-null   float64\n",
      " 4   chlorides             1482 non-null   float64\n",
      " 5   free sulfur dioxide   1482 non-null   float64\n",
      " 6   total sulfur dioxide  1482 non-null   float64\n",
      " 7   density               1482 non-null   float64\n",
      " 8   pH                    1482 non-null   float64\n",
      " 9   sulphates             1482 non-null   float64\n",
      " 10  alcohol               1482 non-null   float64\n",
      " 11  text_rank             1482 non-null   object \n",
      "dtypes: float64(11), object(1)\n",
      "memory usage: 150.5+ KB\n",
      "None\n"
     ]
    }
   ],
   "source": [
    "print(winequality.info()) #Lost some rows, but should be fine with this size dataset"
   ]
  },
  {
   "cell_type": "markdown",
   "metadata": {},
   "source": [
    "## Collapsing the target"
   ]
  },
  {
   "cell_type": "code",
   "execution_count": 55,
   "metadata": {},
   "outputs": [
    {
     "data": {
      "text/plain": [
       "ave            635\n",
       "average-ish    583\n",
       "good           186\n",
       "poor-ish        51\n",
       "excellent       17\n",
       "poor            10\n",
       "Name: text_rank, dtype: int64"
      ]
     },
     "execution_count": 55,
     "metadata": {},
     "output_type": "execute_result"
    }
   ],
   "source": [
    "#Let's collapse text_rank now into only two classes\n",
    "winequality.text_rank.value_counts() #What should we combine?"
   ]
  },
  {
   "cell_type": "code",
   "execution_count": 56,
   "metadata": {},
   "outputs": [
    {
     "name": "stdout",
     "output_type": "stream",
     "text": [
      "ave          1279\n",
      "excellent     203\n",
      "Name: text_rank, dtype: int64\n"
     ]
    }
   ],
   "source": [
    "#Condense everything into either average or excellent\n",
    "winequality[\"text_rank\"]= winequality[\"text_rank\"].replace(['good','average-ish','poor-ish','poor'], ['excellent','ave','ave','ave'])\n",
    "print(winequality[\"text_rank\"].value_counts()) #Great!"
   ]
  },
  {
   "cell_type": "code",
   "execution_count": 57,
   "metadata": {},
   "outputs": [
    {
     "name": "stdout",
     "output_type": "stream",
     "text": [
      "0.1369770580296896\n"
     ]
    }
   ],
   "source": [
    "#check the prevalence\n",
    "print(203/(1279+203))"
   ]
  },
  {
   "cell_type": "code",
   "execution_count": 58,
   "metadata": {},
   "outputs": [
    {
     "name": "stdout",
     "output_type": "stream",
     "text": [
      "0.0    1279\n",
      "1.0     203\n",
      "Name: text_rank, dtype: int64\n"
     ]
    }
   ],
   "source": [
    "#Before we start move forward, we have one more preprocessing step\n",
    "#We must encode text_rank to become a continuous variable as that is the only type sklearn deicsion trees can currently take\n",
    "winequality[[\"text_rank\"]] = OrdinalEncoder().fit_transform(winequality[[\"text_rank\"]])\n",
    "print(winequality[\"text_rank\"].value_counts()) #nice"
   ]
  },
  {
   "cell_type": "markdown",
   "metadata": {},
   "source": [
    "## Splitting the Data"
   ]
  },
  {
   "cell_type": "code",
   "execution_count": 59,
   "metadata": {},
   "outputs": [],
   "source": [
    "#split independent and dependent variables \n",
    "X= winequality.drop(columns='text_rank')\n",
    "y= winequality.text_rank"
   ]
  },
  {
   "cell_type": "code",
   "execution_count": 60,
   "metadata": {},
   "outputs": [],
   "source": [
    "#There is not a easy way to create 3 partitions using the train_test_split\n",
    "#so we are going to use it twice. Mostly because we want to stratify on the variable we are working to predict. What does that mean?  \n",
    "\n",
    "#what should I stratify by??? Our Target!\n",
    "X_train, X_test, y_train, y_test = train_test_split(X, y, train_size=0.70, stratify= y, random_state=21)\n",
    "X_tune, X_test, y_tune, y_test = train_test_split(X_test,y_test,  train_size = 0.50,stratify= y_test, random_state=49)\n"
   ]
  },
  {
   "cell_type": "markdown",
   "metadata": {},
   "source": [
    "## Let's Build the Model "
   ]
  },
  {
   "cell_type": "code",
   "execution_count": 61,
   "metadata": {},
   "outputs": [],
   "source": [
    "#Three steps in building a ML model\n",
    "#Step 1: Cross validation process- the process by which the training data will be used to build the initial model must be set. As seen below:\n",
    "\n",
    "kf = RepeatedStratifiedKFold(n_splits=10,n_repeats =5, random_state=42)\n",
    "# number - number of folds\n",
    "# repeats - number of times the CV is repeated, takes the average of these repeat rounds\n",
    "\n",
    "# This essentially will split our training data into k groups. For each unique group it will hold out one as a test set\n",
    "# and take the remaining groups as a training set. Then, it fits a model on the training set and evaluates it on the test set.\n",
    "# Retains the evaluation score and discards the model, then summarizes the skill of the model using the sample of model evaluation scores we choose"
   ]
  },
  {
   "cell_type": "code",
   "execution_count": 62,
   "metadata": {},
   "outputs": [
    {
     "name": "stdout",
     "output_type": "stream",
     "text": [
      "dict_keys(['explained_variance', 'r2', 'max_error', 'neg_median_absolute_error', 'neg_mean_absolute_error', 'neg_mean_absolute_percentage_error', 'neg_mean_squared_error', 'neg_mean_squared_log_error', 'neg_root_mean_squared_error', 'neg_mean_poisson_deviance', 'neg_mean_gamma_deviance', 'accuracy', 'top_k_accuracy', 'roc_auc', 'roc_auc_ovr', 'roc_auc_ovo', 'roc_auc_ovr_weighted', 'roc_auc_ovo_weighted', 'balanced_accuracy', 'average_precision', 'neg_log_loss', 'neg_brier_score', 'adjusted_rand_score', 'rand_score', 'homogeneity_score', 'completeness_score', 'v_measure_score', 'mutual_info_score', 'adjusted_mutual_info_score', 'normalized_mutual_info_score', 'fowlkes_mallows_score', 'precision', 'precision_macro', 'precision_micro', 'precision_samples', 'precision_weighted', 'recall', 'recall_macro', 'recall_micro', 'recall_samples', 'recall_weighted', 'f1', 'f1_macro', 'f1_micro', 'f1_samples', 'f1_weighted', 'jaccard', 'jaccard_macro', 'jaccard_micro', 'jaccard_samples', 'jaccard_weighted'])\n"
     ]
    }
   ],
   "source": [
    "#What score do we want our model to be built on? Let's use:\n",
    "#AUC for the ROC curve - remember this is measures how well our model distiguishes between classes\n",
    "#Recall - this is sensitivity of our model, also known as the true positive rate (predicted pos when actually pos)\n",
    "#Balanced accuracy - this is the (sensitivity + specificity)/2, or we can just say it is the number of correctly predicted data points\n",
    "print(metrics.SCORERS.keys()) #find them"
   ]
  },
  {
   "cell_type": "code",
   "execution_count": 63,
   "metadata": {},
   "outputs": [],
   "source": [
    "#Define score, these are the keys we located above. This is what the models will be scored by\n",
    "scoring = ['roc_auc','recall','balanced_accuracy']"
   ]
  },
  {
   "cell_type": "code",
   "execution_count": 64,
   "metadata": {},
   "outputs": [],
   "source": [
    "#Step 2: Usually involves setting a hyper-parameter search. This is optional and the hyper-parameters vary by model. \n",
    "#define parameters, we can use any number of the ones below but let's start with only max depth\n",
    "#this will help us find a good balance between under fitting and over fitting in our model\n",
    "\n",
    "param={\"max_depth\" : [1,2,3,4,5,6,7,8,9,10,11],\n",
    "        #\"splitter\":[\"best\",\"random\"],\n",
    "        #\"min_samples_split\":[5,10,15,20,25],\n",
    "        #\"min_samples_leaf\":[5,10,15,20,25],\n",
    "        #\"min_weight_fraction_leaf\":[0,0.1,0.2,0.3,0.4,0.5,0.6,0.7,0.8,0.9],\n",
    "        #\"max_features\":[\"auto\",\"log2\",\"sqrt\",None],\n",
    "        #\"max_leaf_nodes\":[10,20,30,40,50],\n",
    "        #'min_impurity_decrease':[0.00005,0.0001,0.0002,0.0005,0.001,0.0015,0.002,0.005,0.01],\n",
    "        #'ccp_alpha' :[.001, .01, .1]\n",
    "           }"
   ]
  },
  {
   "cell_type": "code",
   "execution_count": 65,
   "metadata": {},
   "outputs": [],
   "source": [
    "#Step 3: Train the Model\n",
    "\n",
    "#Classifier model we will use\n",
    "cl= DecisionTreeClassifier(random_state=1000)\n",
    "\n",
    "#Set up search for best decisiontreeclassifier estimator across all of our folds based on roc_auc\n",
    "search = GridSearchCV(cl, param, scoring=scoring, n_jobs=-1, cv=kf,refit='roc_auc')\n",
    "\n",
    "#execute search on our training data, this may take a few seconds ...\n",
    "model = search.fit(X_train, y_train)"
   ]
  },
  {
   "cell_type": "markdown",
   "metadata": {},
   "source": [
    "## Let's see how we did"
   ]
  },
  {
   "cell_type": "code",
   "execution_count": 66,
   "metadata": {},
   "outputs": [
    {
     "name": "stdout",
     "output_type": "stream",
     "text": [
      "DecisionTreeClassifier(max_depth=5, random_state=1000)\n"
     ]
    }
   ],
   "source": [
    "#Retrieve the best estimator out of all parameters passed, based on highest roc_auc\n",
    "best = model.best_estimator_\n",
    "print(best) #depth of 5, good"
   ]
  },
  {
   "cell_type": "code",
   "execution_count": 67,
   "metadata": {},
   "outputs": [
    {
     "data": {
      "image/svg+xml": "<?xml version=\"1.0\" encoding=\"UTF-8\" standalone=\"no\"?>\n<!DOCTYPE svg PUBLIC \"-//W3C//DTD SVG 1.1//EN\"\n \"http://www.w3.org/Graphics/SVG/1.1/DTD/svg11.dtd\">\n<!-- Generated by graphviz version 2.50.0 (0)\n -->\n<!-- Title: Tree Pages: 1 -->\n<svg width=\"2623pt\" height=\"671pt\"\n viewBox=\"0.00 0.00 2623.00 671.00\" xmlns=\"http://www.w3.org/2000/svg\" xmlns:xlink=\"http://www.w3.org/1999/xlink\">\n<g id=\"graph0\" class=\"graph\" transform=\"scale(1 1) rotate(0) translate(4 667)\">\n<title>Tree</title>\n<polygon fill=\"white\" stroke=\"transparent\" points=\"-4,4 -4,-667 2619,-667 2619,4 -4,4\"/>\n<!-- 0 -->\n<g id=\"node1\" class=\"node\">\n<title>0</title>\n<path fill=\"#e99558\" stroke=\"black\" d=\"M1281.5,-663C1281.5,-663 1180.5,-663 1180.5,-663 1174.5,-663 1168.5,-657 1168.5,-651 1168.5,-651 1168.5,-592 1168.5,-592 1168.5,-586 1174.5,-580 1180.5,-580 1180.5,-580 1281.5,-580 1281.5,-580 1287.5,-580 1293.5,-586 1293.5,-592 1293.5,-592 1293.5,-651 1293.5,-651 1293.5,-657 1287.5,-663 1281.5,-663\"/>\n<text text-anchor=\"middle\" x=\"1231\" y=\"-647.8\" font-family=\"Helvetica,sans-Serif\" font-size=\"14.00\">alcohol &lt;= 11.55</text>\n<text text-anchor=\"middle\" x=\"1231\" y=\"-632.8\" font-family=\"Helvetica,sans-Serif\" font-size=\"14.00\">gini = 0.236</text>\n<text text-anchor=\"middle\" x=\"1231\" y=\"-617.8\" font-family=\"Helvetica,sans-Serif\" font-size=\"14.00\">samples = 1037</text>\n<text text-anchor=\"middle\" x=\"1231\" y=\"-602.8\" font-family=\"Helvetica,sans-Serif\" font-size=\"14.00\">value = [895, 142]</text>\n<text text-anchor=\"middle\" x=\"1231\" y=\"-587.8\" font-family=\"Helvetica,sans-Serif\" font-size=\"14.00\">class = ave</text>\n</g>\n<!-- 1 -->\n<g id=\"node2\" class=\"node\">\n<title>1</title>\n<path fill=\"#e78b49\" stroke=\"black\" d=\"M1106,-544C1106,-544 972,-544 972,-544 966,-544 960,-538 960,-532 960,-532 960,-473 960,-473 960,-467 966,-461 972,-461 972,-461 1106,-461 1106,-461 1112,-461 1118,-467 1118,-473 1118,-473 1118,-532 1118,-532 1118,-538 1112,-544 1106,-544\"/>\n<text text-anchor=\"middle\" x=\"1039\" y=\"-528.8\" font-family=\"Helvetica,sans-Serif\" font-size=\"14.00\">volatile acidity &lt;= 0.385</text>\n<text text-anchor=\"middle\" x=\"1039\" y=\"-513.8\" font-family=\"Helvetica,sans-Serif\" font-size=\"14.00\">gini = 0.141</text>\n<text text-anchor=\"middle\" x=\"1039\" y=\"-498.8\" font-family=\"Helvetica,sans-Serif\" font-size=\"14.00\">samples = 879</text>\n<text text-anchor=\"middle\" x=\"1039\" y=\"-483.8\" font-family=\"Helvetica,sans-Serif\" font-size=\"14.00\">value = [812, 67]</text>\n<text text-anchor=\"middle\" x=\"1039\" y=\"-468.8\" font-family=\"Helvetica,sans-Serif\" font-size=\"14.00\">class = ave</text>\n</g>\n<!-- 0&#45;&gt;1 -->\n<g id=\"edge1\" class=\"edge\">\n<title>0&#45;&gt;1</title>\n<path fill=\"none\" stroke=\"black\" d=\"M1168.4,-582.35C1151.09,-571.81 1132.14,-560.25 1114.2,-549.32\"/>\n<polygon fill=\"black\" stroke=\"black\" points=\"1115.84,-546.23 1105.48,-544.01 1112.2,-552.21 1115.84,-546.23\"/>\n<text text-anchor=\"middle\" x=\"1111.38\" y=\"-564.61\" font-family=\"Helvetica,sans-Serif\" font-size=\"14.00\">True</text>\n</g>\n<!-- 24 -->\n<g id=\"node25\" class=\"node\">\n<title>24</title>\n<path fill=\"#fcf3ec\" stroke=\"black\" d=\"M1606,-544C1606,-544 1498,-544 1498,-544 1492,-544 1486,-538 1486,-532 1486,-532 1486,-473 1486,-473 1486,-467 1492,-461 1498,-461 1498,-461 1606,-461 1606,-461 1612,-461 1618,-467 1618,-473 1618,-473 1618,-532 1618,-532 1618,-538 1612,-544 1606,-544\"/>\n<text text-anchor=\"middle\" x=\"1552\" y=\"-528.8\" font-family=\"Helvetica,sans-Serif\" font-size=\"14.00\">sulphates &lt;= 0.635</text>\n<text text-anchor=\"middle\" x=\"1552\" y=\"-513.8\" font-family=\"Helvetica,sans-Serif\" font-size=\"14.00\">gini = 0.499</text>\n<text text-anchor=\"middle\" x=\"1552\" y=\"-498.8\" font-family=\"Helvetica,sans-Serif\" font-size=\"14.00\">samples = 158</text>\n<text text-anchor=\"middle\" x=\"1552\" y=\"-483.8\" font-family=\"Helvetica,sans-Serif\" font-size=\"14.00\">value = [83, 75]</text>\n<text text-anchor=\"middle\" x=\"1552\" y=\"-468.8\" font-family=\"Helvetica,sans-Serif\" font-size=\"14.00\">class = ave</text>\n</g>\n<!-- 0&#45;&gt;24 -->\n<g id=\"edge24\" class=\"edge\">\n<title>0&#45;&gt;24</title>\n<path fill=\"none\" stroke=\"black\" d=\"M1293.65,-597.66C1346,-578.58 1420.8,-551.32 1476.46,-531.03\"/>\n<polygon fill=\"black\" stroke=\"black\" points=\"1477.72,-534.3 1485.92,-527.59 1475.32,-527.72 1477.72,-534.3\"/>\n<text text-anchor=\"middle\" x=\"1475.36\" y=\"-546.55\" font-family=\"Helvetica,sans-Serif\" font-size=\"14.00\">False</text>\n</g>\n<!-- 2 -->\n<g id=\"node3\" class=\"node\">\n<title>2</title>\n<path fill=\"#eca571\" stroke=\"black\" d=\"M696.5,-425C696.5,-425 603.5,-425 603.5,-425 597.5,-425 591.5,-419 591.5,-413 591.5,-413 591.5,-354 591.5,-354 591.5,-348 597.5,-342 603.5,-342 603.5,-342 696.5,-342 696.5,-342 702.5,-342 708.5,-348 708.5,-354 708.5,-354 708.5,-413 708.5,-413 708.5,-419 702.5,-425 696.5,-425\"/>\n<text text-anchor=\"middle\" x=\"650\" y=\"-409.8\" font-family=\"Helvetica,sans-Serif\" font-size=\"14.00\">pH &lt;= 3.265</text>\n<text text-anchor=\"middle\" x=\"650\" y=\"-394.8\" font-family=\"Helvetica,sans-Serif\" font-size=\"14.00\">gini = 0.344</text>\n<text text-anchor=\"middle\" x=\"650\" y=\"-379.8\" font-family=\"Helvetica,sans-Serif\" font-size=\"14.00\">samples = 181</text>\n<text text-anchor=\"middle\" x=\"650\" y=\"-364.8\" font-family=\"Helvetica,sans-Serif\" font-size=\"14.00\">value = [141, 40]</text>\n<text text-anchor=\"middle\" x=\"650\" y=\"-349.8\" font-family=\"Helvetica,sans-Serif\" font-size=\"14.00\">class = ave</text>\n</g>\n<!-- 1&#45;&gt;2 -->\n<g id=\"edge2\" class=\"edge\">\n<title>1&#45;&gt;2</title>\n<path fill=\"none\" stroke=\"black\" d=\"M959.81,-477.68C888.88,-456.35 785.93,-425.38 718.48,-405.1\"/>\n<polygon fill=\"black\" stroke=\"black\" points=\"719.38,-401.71 708.8,-402.18 717.36,-408.42 719.38,-401.71\"/>\n</g>\n<!-- 15 -->\n<g id=\"node16\" class=\"node\">\n<title>15</title>\n<path fill=\"#e68641\" stroke=\"black\" d=\"M1099.5,-425C1099.5,-425 978.5,-425 978.5,-425 972.5,-425 966.5,-419 966.5,-413 966.5,-413 966.5,-354 966.5,-354 966.5,-348 972.5,-342 978.5,-342 978.5,-342 1099.5,-342 1099.5,-342 1105.5,-342 1111.5,-348 1111.5,-354 1111.5,-354 1111.5,-413 1111.5,-413 1111.5,-419 1105.5,-425 1099.5,-425\"/>\n<text text-anchor=\"middle\" x=\"1039\" y=\"-409.8\" font-family=\"Helvetica,sans-Serif\" font-size=\"14.00\">fixed acidity &lt;= 15.55</text>\n<text text-anchor=\"middle\" x=\"1039\" y=\"-394.8\" font-family=\"Helvetica,sans-Serif\" font-size=\"14.00\">gini = 0.074</text>\n<text text-anchor=\"middle\" x=\"1039\" y=\"-379.8\" font-family=\"Helvetica,sans-Serif\" font-size=\"14.00\">samples = 698</text>\n<text text-anchor=\"middle\" x=\"1039\" y=\"-364.8\" font-family=\"Helvetica,sans-Serif\" font-size=\"14.00\">value = [671, 27]</text>\n<text text-anchor=\"middle\" x=\"1039\" y=\"-349.8\" font-family=\"Helvetica,sans-Serif\" font-size=\"14.00\">class = ave</text>\n</g>\n<!-- 1&#45;&gt;15 -->\n<g id=\"edge15\" class=\"edge\">\n<title>1&#45;&gt;15</title>\n<path fill=\"none\" stroke=\"black\" d=\"M1039,-460.91C1039,-452.65 1039,-443.86 1039,-435.3\"/>\n<polygon fill=\"black\" stroke=\"black\" points=\"1042.5,-435.02 1039,-425.02 1035.5,-435.02 1042.5,-435.02\"/>\n</g>\n<!-- 3 -->\n<g id=\"node4\" class=\"node\">\n<title>3</title>\n<path fill=\"#f4c9aa\" stroke=\"black\" d=\"M422.5,-306C422.5,-306 329.5,-306 329.5,-306 323.5,-306 317.5,-300 317.5,-294 317.5,-294 317.5,-235 317.5,-235 317.5,-229 323.5,-223 329.5,-223 329.5,-223 422.5,-223 422.5,-223 428.5,-223 434.5,-229 434.5,-235 434.5,-235 434.5,-294 434.5,-294 434.5,-300 428.5,-306 422.5,-306\"/>\n<text text-anchor=\"middle\" x=\"376\" y=\"-290.8\" font-family=\"Helvetica,sans-Serif\" font-size=\"14.00\">density &lt;= 0.997</text>\n<text text-anchor=\"middle\" x=\"376\" y=\"-275.8\" font-family=\"Helvetica,sans-Serif\" font-size=\"14.00\">gini = 0.463</text>\n<text text-anchor=\"middle\" x=\"376\" y=\"-260.8\" font-family=\"Helvetica,sans-Serif\" font-size=\"14.00\">samples = 88</text>\n<text text-anchor=\"middle\" x=\"376\" y=\"-245.8\" font-family=\"Helvetica,sans-Serif\" font-size=\"14.00\">value = [56, 32]</text>\n<text text-anchor=\"middle\" x=\"376\" y=\"-230.8\" font-family=\"Helvetica,sans-Serif\" font-size=\"14.00\">class = ave</text>\n</g>\n<!-- 2&#45;&gt;3 -->\n<g id=\"edge3\" class=\"edge\">\n<title>2&#45;&gt;3</title>\n<path fill=\"none\" stroke=\"black\" d=\"M591.22,-357.4C548.06,-338.97 489.32,-313.89 444.11,-294.59\"/>\n<polygon fill=\"black\" stroke=\"black\" points=\"445.25,-291.27 434.68,-290.56 442.5,-297.7 445.25,-291.27\"/>\n</g>\n<!-- 10 -->\n<g id=\"node11\" class=\"node\">\n<title>10</title>\n<path fill=\"#e78d4c\" stroke=\"black\" d=\"M710.5,-306C710.5,-306 589.5,-306 589.5,-306 583.5,-306 577.5,-300 577.5,-294 577.5,-294 577.5,-235 577.5,-235 577.5,-229 583.5,-223 589.5,-223 589.5,-223 710.5,-223 710.5,-223 716.5,-223 722.5,-229 722.5,-235 722.5,-235 722.5,-294 722.5,-294 722.5,-300 716.5,-306 710.5,-306\"/>\n<text text-anchor=\"middle\" x=\"650\" y=\"-290.8\" font-family=\"Helvetica,sans-Serif\" font-size=\"14.00\">fixed acidity &lt;= 11.55</text>\n<text text-anchor=\"middle\" x=\"650\" y=\"-275.8\" font-family=\"Helvetica,sans-Serif\" font-size=\"14.00\">gini = 0.157</text>\n<text text-anchor=\"middle\" x=\"650\" y=\"-260.8\" font-family=\"Helvetica,sans-Serif\" font-size=\"14.00\">samples = 93</text>\n<text text-anchor=\"middle\" x=\"650\" y=\"-245.8\" font-family=\"Helvetica,sans-Serif\" font-size=\"14.00\">value = [85, 8]</text>\n<text text-anchor=\"middle\" x=\"650\" y=\"-230.8\" font-family=\"Helvetica,sans-Serif\" font-size=\"14.00\">class = ave</text>\n</g>\n<!-- 2&#45;&gt;10 -->\n<g id=\"edge10\" class=\"edge\">\n<title>2&#45;&gt;10</title>\n<path fill=\"none\" stroke=\"black\" d=\"M650,-341.91C650,-333.65 650,-324.86 650,-316.3\"/>\n<polygon fill=\"black\" stroke=\"black\" points=\"653.5,-316.02 650,-306.02 646.5,-316.02 653.5,-316.02\"/>\n</g>\n<!-- 4 -->\n<g id=\"node5\" class=\"node\">\n<title>4</title>\n<path fill=\"#73baed\" stroke=\"black\" d=\"M241,-187C241,-187 107,-187 107,-187 101,-187 95,-181 95,-175 95,-175 95,-116 95,-116 95,-110 101,-104 107,-104 107,-104 241,-104 241,-104 247,-104 253,-110 253,-116 253,-116 253,-175 253,-175 253,-181 247,-187 241,-187\"/>\n<text text-anchor=\"middle\" x=\"174\" y=\"-171.8\" font-family=\"Helvetica,sans-Serif\" font-size=\"14.00\">volatile acidity &lt;= 0.325</text>\n<text text-anchor=\"middle\" x=\"174\" y=\"-156.8\" font-family=\"Helvetica,sans-Serif\" font-size=\"14.00\">gini = 0.351</text>\n<text text-anchor=\"middle\" x=\"174\" y=\"-141.8\" font-family=\"Helvetica,sans-Serif\" font-size=\"14.00\">samples = 22</text>\n<text text-anchor=\"middle\" x=\"174\" y=\"-126.8\" font-family=\"Helvetica,sans-Serif\" font-size=\"14.00\">value = [5, 17]</text>\n<text text-anchor=\"middle\" x=\"174\" y=\"-111.8\" font-family=\"Helvetica,sans-Serif\" font-size=\"14.00\">class = excellent</text>\n</g>\n<!-- 3&#45;&gt;4 -->\n<g id=\"edge4\" class=\"edge\">\n<title>3&#45;&gt;4</title>\n<path fill=\"none\" stroke=\"black\" d=\"M317.3,-229.5C297.13,-217.82 274.22,-204.55 252.72,-192.09\"/>\n<polygon fill=\"black\" stroke=\"black\" points=\"254.33,-188.98 243.92,-187 250.82,-195.04 254.33,-188.98\"/>\n</g>\n<!-- 7 -->\n<g id=\"node8\" class=\"node\">\n<title>7</title>\n<path fill=\"#eda673\" stroke=\"black\" d=\"M419,-187C419,-187 333,-187 333,-187 327,-187 321,-181 321,-175 321,-175 321,-116 321,-116 321,-110 327,-104 333,-104 333,-104 419,-104 419,-104 425,-104 431,-110 431,-116 431,-116 431,-175 431,-175 431,-181 425,-187 419,-187\"/>\n<text text-anchor=\"middle\" x=\"376\" y=\"-171.8\" font-family=\"Helvetica,sans-Serif\" font-size=\"14.00\">alcohol &lt;= 9.75</text>\n<text text-anchor=\"middle\" x=\"376\" y=\"-156.8\" font-family=\"Helvetica,sans-Serif\" font-size=\"14.00\">gini = 0.351</text>\n<text text-anchor=\"middle\" x=\"376\" y=\"-141.8\" font-family=\"Helvetica,sans-Serif\" font-size=\"14.00\">samples = 66</text>\n<text text-anchor=\"middle\" x=\"376\" y=\"-126.8\" font-family=\"Helvetica,sans-Serif\" font-size=\"14.00\">value = [51, 15]</text>\n<text text-anchor=\"middle\" x=\"376\" y=\"-111.8\" font-family=\"Helvetica,sans-Serif\" font-size=\"14.00\">class = ave</text>\n</g>\n<!-- 3&#45;&gt;7 -->\n<g id=\"edge7\" class=\"edge\">\n<title>3&#45;&gt;7</title>\n<path fill=\"none\" stroke=\"black\" d=\"M376,-222.91C376,-214.65 376,-205.86 376,-197.3\"/>\n<polygon fill=\"black\" stroke=\"black\" points=\"379.5,-197.02 376,-187.02 372.5,-197.02 379.5,-197.02\"/>\n</g>\n<!-- 5 -->\n<g id=\"node6\" class=\"node\">\n<title>5</title>\n<path fill=\"#ffffff\" stroke=\"black\" d=\"M86,-68C86,-68 12,-68 12,-68 6,-68 0,-62 0,-56 0,-56 0,-12 0,-12 0,-6 6,0 12,0 12,0 86,0 86,0 92,0 98,-6 98,-12 98,-12 98,-56 98,-56 98,-62 92,-68 86,-68\"/>\n<text text-anchor=\"middle\" x=\"49\" y=\"-52.8\" font-family=\"Helvetica,sans-Serif\" font-size=\"14.00\">gini = 0.5</text>\n<text text-anchor=\"middle\" x=\"49\" y=\"-37.8\" font-family=\"Helvetica,sans-Serif\" font-size=\"14.00\">samples = 10</text>\n<text text-anchor=\"middle\" x=\"49\" y=\"-22.8\" font-family=\"Helvetica,sans-Serif\" font-size=\"14.00\">value = [5, 5]</text>\n<text text-anchor=\"middle\" x=\"49\" y=\"-7.8\" font-family=\"Helvetica,sans-Serif\" font-size=\"14.00\">class = ave</text>\n</g>\n<!-- 4&#45;&gt;5 -->\n<g id=\"edge5\" class=\"edge\">\n<title>4&#45;&gt;5</title>\n<path fill=\"none\" stroke=\"black\" d=\"M127.45,-103.73C116.73,-94.33 105.33,-84.35 94.65,-74.99\"/>\n<polygon fill=\"black\" stroke=\"black\" points=\"96.84,-72.26 87.01,-68.3 92.23,-77.52 96.84,-72.26\"/>\n</g>\n<!-- 6 -->\n<g id=\"node7\" class=\"node\">\n<title>6</title>\n<path fill=\"#399de5\" stroke=\"black\" d=\"M220,-68C220,-68 128,-68 128,-68 122,-68 116,-62 116,-56 116,-56 116,-12 116,-12 116,-6 122,0 128,0 128,0 220,0 220,0 226,0 232,-6 232,-12 232,-12 232,-56 232,-56 232,-62 226,-68 220,-68\"/>\n<text text-anchor=\"middle\" x=\"174\" y=\"-52.8\" font-family=\"Helvetica,sans-Serif\" font-size=\"14.00\">gini = 0.0</text>\n<text text-anchor=\"middle\" x=\"174\" y=\"-37.8\" font-family=\"Helvetica,sans-Serif\" font-size=\"14.00\">samples = 12</text>\n<text text-anchor=\"middle\" x=\"174\" y=\"-22.8\" font-family=\"Helvetica,sans-Serif\" font-size=\"14.00\">value = [0, 12]</text>\n<text text-anchor=\"middle\" x=\"174\" y=\"-7.8\" font-family=\"Helvetica,sans-Serif\" font-size=\"14.00\">class = excellent</text>\n</g>\n<!-- 4&#45;&gt;6 -->\n<g id=\"edge6\" class=\"edge\">\n<title>4&#45;&gt;6</title>\n<path fill=\"none\" stroke=\"black\" d=\"M174,-103.73C174,-95.52 174,-86.86 174,-78.56\"/>\n<polygon fill=\"black\" stroke=\"black\" points=\"177.5,-78.3 174,-68.3 170.5,-78.3 177.5,-78.3\"/>\n</g>\n<!-- 8 -->\n<g id=\"node9\" class=\"node\">\n<title>8</title>\n<path fill=\"#e78946\" stroke=\"black\" d=\"M340,-68C340,-68 262,-68 262,-68 256,-68 250,-62 250,-56 250,-56 250,-12 250,-12 250,-6 256,0 262,0 262,0 340,0 340,0 346,0 352,-6 352,-12 352,-12 352,-56 352,-56 352,-62 346,-68 340,-68\"/>\n<text text-anchor=\"middle\" x=\"301\" y=\"-52.8\" font-family=\"Helvetica,sans-Serif\" font-size=\"14.00\">gini = 0.117</text>\n<text text-anchor=\"middle\" x=\"301\" y=\"-37.8\" font-family=\"Helvetica,sans-Serif\" font-size=\"14.00\">samples = 32</text>\n<text text-anchor=\"middle\" x=\"301\" y=\"-22.8\" font-family=\"Helvetica,sans-Serif\" font-size=\"14.00\">value = [30, 2]</text>\n<text text-anchor=\"middle\" x=\"301\" y=\"-7.8\" font-family=\"Helvetica,sans-Serif\" font-size=\"14.00\">class = ave</text>\n</g>\n<!-- 7&#45;&gt;8 -->\n<g id=\"edge8\" class=\"edge\">\n<title>7&#45;&gt;8</title>\n<path fill=\"none\" stroke=\"black\" d=\"M348.07,-103.73C342.01,-94.88 335.6,-85.51 329.51,-76.63\"/>\n<polygon fill=\"black\" stroke=\"black\" points=\"332.35,-74.57 323.81,-68.3 326.57,-78.53 332.35,-74.57\"/>\n</g>\n<!-- 9 -->\n<g id=\"node10\" class=\"node\">\n<title>9</title>\n<path fill=\"#f5cfb4\" stroke=\"black\" d=\"M468,-68C468,-68 382,-68 382,-68 376,-68 370,-62 370,-56 370,-56 370,-12 370,-12 370,-6 376,0 382,0 382,0 468,0 468,0 474,0 480,-6 480,-12 480,-12 480,-56 480,-56 480,-62 474,-68 468,-68\"/>\n<text text-anchor=\"middle\" x=\"425\" y=\"-52.8\" font-family=\"Helvetica,sans-Serif\" font-size=\"14.00\">gini = 0.472</text>\n<text text-anchor=\"middle\" x=\"425\" y=\"-37.8\" font-family=\"Helvetica,sans-Serif\" font-size=\"14.00\">samples = 34</text>\n<text text-anchor=\"middle\" x=\"425\" y=\"-22.8\" font-family=\"Helvetica,sans-Serif\" font-size=\"14.00\">value = [21, 13]</text>\n<text text-anchor=\"middle\" x=\"425\" y=\"-7.8\" font-family=\"Helvetica,sans-Serif\" font-size=\"14.00\">class = ave</text>\n</g>\n<!-- 7&#45;&gt;9 -->\n<g id=\"edge9\" class=\"edge\">\n<title>7&#45;&gt;9</title>\n<path fill=\"none\" stroke=\"black\" d=\"M394.25,-103.73C398.08,-95.15 402.14,-86.09 406,-77.46\"/>\n<polygon fill=\"black\" stroke=\"black\" points=\"409.21,-78.86 410.1,-68.3 402.82,-76 409.21,-78.86\"/>\n</g>\n<!-- 11 -->\n<g id=\"node12\" class=\"node\">\n<title>11</title>\n<path fill=\"#e78a47\" stroke=\"black\" d=\"M632,-187C632,-187 528,-187 528,-187 522,-187 516,-181 516,-175 516,-175 516,-116 516,-116 516,-110 522,-104 528,-104 528,-104 632,-104 632,-104 638,-104 644,-110 644,-116 644,-116 644,-175 644,-175 644,-181 638,-187 632,-187\"/>\n<text text-anchor=\"middle\" x=\"580\" y=\"-171.8\" font-family=\"Helvetica,sans-Serif\" font-size=\"14.00\">chlorides &lt;= 0.055</text>\n<text text-anchor=\"middle\" x=\"580\" y=\"-156.8\" font-family=\"Helvetica,sans-Serif\" font-size=\"14.00\">gini = 0.123</text>\n<text text-anchor=\"middle\" x=\"580\" y=\"-141.8\" font-family=\"Helvetica,sans-Serif\" font-size=\"14.00\">samples = 91</text>\n<text text-anchor=\"middle\" x=\"580\" y=\"-126.8\" font-family=\"Helvetica,sans-Serif\" font-size=\"14.00\">value = [85, 6]</text>\n<text text-anchor=\"middle\" x=\"580\" y=\"-111.8\" font-family=\"Helvetica,sans-Serif\" font-size=\"14.00\">class = ave</text>\n</g>\n<!-- 10&#45;&gt;11 -->\n<g id=\"edge11\" class=\"edge\">\n<title>10&#45;&gt;11</title>\n<path fill=\"none\" stroke=\"black\" d=\"M625.71,-222.91C620.45,-214.1 614.82,-204.7 609.38,-195.61\"/>\n<polygon fill=\"black\" stroke=\"black\" points=\"612.38,-193.81 604.24,-187.02 606.37,-197.4 612.38,-193.81\"/>\n</g>\n<!-- 14 -->\n<g id=\"node15\" class=\"node\">\n<title>14</title>\n<path fill=\"#399de5\" stroke=\"black\" d=\"M766,-179.5C766,-179.5 674,-179.5 674,-179.5 668,-179.5 662,-173.5 662,-167.5 662,-167.5 662,-123.5 662,-123.5 662,-117.5 668,-111.5 674,-111.5 674,-111.5 766,-111.5 766,-111.5 772,-111.5 778,-117.5 778,-123.5 778,-123.5 778,-167.5 778,-167.5 778,-173.5 772,-179.5 766,-179.5\"/>\n<text text-anchor=\"middle\" x=\"720\" y=\"-164.3\" font-family=\"Helvetica,sans-Serif\" font-size=\"14.00\">gini = 0.0</text>\n<text text-anchor=\"middle\" x=\"720\" y=\"-149.3\" font-family=\"Helvetica,sans-Serif\" font-size=\"14.00\">samples = 2</text>\n<text text-anchor=\"middle\" x=\"720\" y=\"-134.3\" font-family=\"Helvetica,sans-Serif\" font-size=\"14.00\">value = [0, 2]</text>\n<text text-anchor=\"middle\" x=\"720\" y=\"-119.3\" font-family=\"Helvetica,sans-Serif\" font-size=\"14.00\">class = excellent</text>\n</g>\n<!-- 10&#45;&gt;14 -->\n<g id=\"edge14\" class=\"edge\">\n<title>10&#45;&gt;14</title>\n<path fill=\"none\" stroke=\"black\" d=\"M674.29,-222.91C680.95,-211.76 688.2,-199.66 694.91,-188.44\"/>\n<polygon fill=\"black\" stroke=\"black\" points=\"698.03,-190.05 700.16,-179.67 692.02,-186.45 698.03,-190.05\"/>\n</g>\n<!-- 12 -->\n<g id=\"node13\" class=\"node\">\n<title>12</title>\n<path fill=\"#ffffff\" stroke=\"black\" d=\"M581.5,-68C581.5,-68 510.5,-68 510.5,-68 504.5,-68 498.5,-62 498.5,-56 498.5,-56 498.5,-12 498.5,-12 498.5,-6 504.5,0 510.5,0 510.5,0 581.5,0 581.5,0 587.5,0 593.5,-6 593.5,-12 593.5,-12 593.5,-56 593.5,-56 593.5,-62 587.5,-68 581.5,-68\"/>\n<text text-anchor=\"middle\" x=\"546\" y=\"-52.8\" font-family=\"Helvetica,sans-Serif\" font-size=\"14.00\">gini = 0.5</text>\n<text text-anchor=\"middle\" x=\"546\" y=\"-37.8\" font-family=\"Helvetica,sans-Serif\" font-size=\"14.00\">samples = 4</text>\n<text text-anchor=\"middle\" x=\"546\" y=\"-22.8\" font-family=\"Helvetica,sans-Serif\" font-size=\"14.00\">value = [2, 2]</text>\n<text text-anchor=\"middle\" x=\"546\" y=\"-7.8\" font-family=\"Helvetica,sans-Serif\" font-size=\"14.00\">class = ave</text>\n</g>\n<!-- 11&#45;&gt;12 -->\n<g id=\"edge12\" class=\"edge\">\n<title>11&#45;&gt;12</title>\n<path fill=\"none\" stroke=\"black\" d=\"M567.34,-103.73C564.73,-95.34 561.98,-86.47 559.35,-78.01\"/>\n<polygon fill=\"black\" stroke=\"black\" points=\"562.65,-76.81 556.34,-68.3 555.96,-78.89 562.65,-76.81\"/>\n</g>\n<!-- 13 -->\n<g id=\"node14\" class=\"node\">\n<title>13</title>\n<path fill=\"#e68743\" stroke=\"black\" d=\"M702,-68C702,-68 624,-68 624,-68 618,-68 612,-62 612,-56 612,-56 612,-12 612,-12 612,-6 618,0 624,0 624,0 702,0 702,0 708,0 714,-6 714,-12 714,-12 714,-56 714,-56 714,-62 708,-68 702,-68\"/>\n<text text-anchor=\"middle\" x=\"663\" y=\"-52.8\" font-family=\"Helvetica,sans-Serif\" font-size=\"14.00\">gini = 0.088</text>\n<text text-anchor=\"middle\" x=\"663\" y=\"-37.8\" font-family=\"Helvetica,sans-Serif\" font-size=\"14.00\">samples = 87</text>\n<text text-anchor=\"middle\" x=\"663\" y=\"-22.8\" font-family=\"Helvetica,sans-Serif\" font-size=\"14.00\">value = [83, 4]</text>\n<text text-anchor=\"middle\" x=\"663\" y=\"-7.8\" font-family=\"Helvetica,sans-Serif\" font-size=\"14.00\">class = ave</text>\n</g>\n<!-- 11&#45;&gt;13 -->\n<g id=\"edge13\" class=\"edge\">\n<title>11&#45;&gt;13</title>\n<path fill=\"none\" stroke=\"black\" d=\"M610.91,-103.73C617.68,-94.79 624.86,-85.32 631.65,-76.36\"/>\n<polygon fill=\"black\" stroke=\"black\" points=\"634.51,-78.38 637.76,-68.3 628.93,-74.15 634.51,-78.38\"/>\n</g>\n<!-- 16 -->\n<g id=\"node17\" class=\"node\">\n<title>16</title>\n<path fill=\"#e68641\" stroke=\"black\" d=\"M1018.5,-306C1018.5,-306 925.5,-306 925.5,-306 919.5,-306 913.5,-300 913.5,-294 913.5,-294 913.5,-235 913.5,-235 913.5,-229 919.5,-223 925.5,-223 925.5,-223 1018.5,-223 1018.5,-223 1024.5,-223 1030.5,-229 1030.5,-235 1030.5,-235 1030.5,-294 1030.5,-294 1030.5,-300 1024.5,-306 1018.5,-306\"/>\n<text text-anchor=\"middle\" x=\"972\" y=\"-290.8\" font-family=\"Helvetica,sans-Serif\" font-size=\"14.00\">alcohol &lt;= 9.975</text>\n<text text-anchor=\"middle\" x=\"972\" y=\"-275.8\" font-family=\"Helvetica,sans-Serif\" font-size=\"14.00\">gini = 0.072</text>\n<text text-anchor=\"middle\" x=\"972\" y=\"-260.8\" font-family=\"Helvetica,sans-Serif\" font-size=\"14.00\">samples = 697</text>\n<text text-anchor=\"middle\" x=\"972\" y=\"-245.8\" font-family=\"Helvetica,sans-Serif\" font-size=\"14.00\">value = [671, 26]</text>\n<text text-anchor=\"middle\" x=\"972\" y=\"-230.8\" font-family=\"Helvetica,sans-Serif\" font-size=\"14.00\">class = ave</text>\n</g>\n<!-- 15&#45;&gt;16 -->\n<g id=\"edge16\" class=\"edge\">\n<title>15&#45;&gt;16</title>\n<path fill=\"none\" stroke=\"black\" d=\"M1015.75,-341.91C1010.77,-333.2 1005.44,-323.9 1000.29,-314.89\"/>\n<polygon fill=\"black\" stroke=\"black\" points=\"1003.21,-312.96 995.2,-306.02 997.14,-316.44 1003.21,-312.96\"/>\n</g>\n<!-- 23 -->\n<g id=\"node24\" class=\"node\">\n<title>23</title>\n<path fill=\"#399de5\" stroke=\"black\" d=\"M1153,-298.5C1153,-298.5 1061,-298.5 1061,-298.5 1055,-298.5 1049,-292.5 1049,-286.5 1049,-286.5 1049,-242.5 1049,-242.5 1049,-236.5 1055,-230.5 1061,-230.5 1061,-230.5 1153,-230.5 1153,-230.5 1159,-230.5 1165,-236.5 1165,-242.5 1165,-242.5 1165,-286.5 1165,-286.5 1165,-292.5 1159,-298.5 1153,-298.5\"/>\n<text text-anchor=\"middle\" x=\"1107\" y=\"-283.3\" font-family=\"Helvetica,sans-Serif\" font-size=\"14.00\">gini = 0.0</text>\n<text text-anchor=\"middle\" x=\"1107\" y=\"-268.3\" font-family=\"Helvetica,sans-Serif\" font-size=\"14.00\">samples = 1</text>\n<text text-anchor=\"middle\" x=\"1107\" y=\"-253.3\" font-family=\"Helvetica,sans-Serif\" font-size=\"14.00\">value = [0, 1]</text>\n<text text-anchor=\"middle\" x=\"1107\" y=\"-238.3\" font-family=\"Helvetica,sans-Serif\" font-size=\"14.00\">class = excellent</text>\n</g>\n<!-- 15&#45;&gt;23 -->\n<g id=\"edge23\" class=\"edge\">\n<title>15&#45;&gt;23</title>\n<path fill=\"none\" stroke=\"black\" d=\"M1062.59,-341.91C1069.07,-330.76 1076.1,-318.66 1082.63,-307.44\"/>\n<polygon fill=\"black\" stroke=\"black\" points=\"1085.72,-309.07 1087.72,-298.67 1079.67,-305.55 1085.72,-309.07\"/>\n</g>\n<!-- 17 -->\n<g id=\"node18\" class=\"node\">\n<title>17</title>\n<path fill=\"#e5823b\" stroke=\"black\" d=\"M952.5,-187C952.5,-187 839.5,-187 839.5,-187 833.5,-187 827.5,-181 827.5,-175 827.5,-175 827.5,-116 827.5,-116 827.5,-110 833.5,-104 839.5,-104 839.5,-104 952.5,-104 952.5,-104 958.5,-104 964.5,-110 964.5,-116 964.5,-116 964.5,-175 964.5,-175 964.5,-181 958.5,-187 952.5,-187\"/>\n<text text-anchor=\"middle\" x=\"896\" y=\"-171.8\" font-family=\"Helvetica,sans-Serif\" font-size=\"14.00\">fixed acidity &lt;= 11.4</text>\n<text text-anchor=\"middle\" x=\"896\" y=\"-156.8\" font-family=\"Helvetica,sans-Serif\" font-size=\"14.00\">gini = 0.015</text>\n<text text-anchor=\"middle\" x=\"896\" y=\"-141.8\" font-family=\"Helvetica,sans-Serif\" font-size=\"14.00\">samples = 391</text>\n<text text-anchor=\"middle\" x=\"896\" y=\"-126.8\" font-family=\"Helvetica,sans-Serif\" font-size=\"14.00\">value = [388, 3]</text>\n<text text-anchor=\"middle\" x=\"896\" y=\"-111.8\" font-family=\"Helvetica,sans-Serif\" font-size=\"14.00\">class = ave</text>\n</g>\n<!-- 16&#45;&gt;17 -->\n<g id=\"edge17\" class=\"edge\">\n<title>16&#45;&gt;17</title>\n<path fill=\"none\" stroke=\"black\" d=\"M945.63,-222.91C939.91,-214.1 933.81,-204.7 927.9,-195.61\"/>\n<polygon fill=\"black\" stroke=\"black\" points=\"930.7,-193.5 922.32,-187.02 924.83,-197.31 930.7,-193.5\"/>\n</g>\n<!-- 20 -->\n<g id=\"node21\" class=\"node\">\n<title>20</title>\n<path fill=\"#e78b49\" stroke=\"black\" d=\"M1101.5,-187C1101.5,-187 994.5,-187 994.5,-187 988.5,-187 982.5,-181 982.5,-175 982.5,-175 982.5,-116 982.5,-116 982.5,-110 988.5,-104 994.5,-104 994.5,-104 1101.5,-104 1101.5,-104 1107.5,-104 1113.5,-110 1113.5,-116 1113.5,-116 1113.5,-175 1113.5,-175 1113.5,-181 1107.5,-187 1101.5,-187\"/>\n<text text-anchor=\"middle\" x=\"1048\" y=\"-171.8\" font-family=\"Helvetica,sans-Serif\" font-size=\"14.00\">citric acid &lt;= 0.655</text>\n<text text-anchor=\"middle\" x=\"1048\" y=\"-156.8\" font-family=\"Helvetica,sans-Serif\" font-size=\"14.00\">gini = 0.139</text>\n<text text-anchor=\"middle\" x=\"1048\" y=\"-141.8\" font-family=\"Helvetica,sans-Serif\" font-size=\"14.00\">samples = 306</text>\n<text text-anchor=\"middle\" x=\"1048\" y=\"-126.8\" font-family=\"Helvetica,sans-Serif\" font-size=\"14.00\">value = [283, 23]</text>\n<text text-anchor=\"middle\" x=\"1048\" y=\"-111.8\" font-family=\"Helvetica,sans-Serif\" font-size=\"14.00\">class = ave</text>\n</g>\n<!-- 16&#45;&gt;20 -->\n<g id=\"edge20\" class=\"edge\">\n<title>16&#45;&gt;20</title>\n<path fill=\"none\" stroke=\"black\" d=\"M998.37,-222.91C1004.09,-214.1 1010.19,-204.7 1016.1,-195.61\"/>\n<polygon fill=\"black\" stroke=\"black\" points=\"1019.17,-197.31 1021.68,-187.02 1013.3,-193.5 1019.17,-197.31\"/>\n</g>\n<!-- 18 -->\n<g id=\"node19\" class=\"node\">\n<title>18</title>\n<path fill=\"#e5823a\" stroke=\"black\" d=\"M830,-68C830,-68 744,-68 744,-68 738,-68 732,-62 732,-56 732,-56 732,-12 732,-12 732,-6 738,0 744,0 744,0 830,0 830,0 836,0 842,-6 842,-12 842,-12 842,-56 842,-56 842,-62 836,-68 830,-68\"/>\n<text text-anchor=\"middle\" x=\"787\" y=\"-52.8\" font-family=\"Helvetica,sans-Serif\" font-size=\"14.00\">gini = 0.01</text>\n<text text-anchor=\"middle\" x=\"787\" y=\"-37.8\" font-family=\"Helvetica,sans-Serif\" font-size=\"14.00\">samples = 381</text>\n<text text-anchor=\"middle\" x=\"787\" y=\"-22.8\" font-family=\"Helvetica,sans-Serif\" font-size=\"14.00\">value = [379, 2]</text>\n<text text-anchor=\"middle\" x=\"787\" y=\"-7.8\" font-family=\"Helvetica,sans-Serif\" font-size=\"14.00\">class = ave</text>\n</g>\n<!-- 17&#45;&gt;18 -->\n<g id=\"edge18\" class=\"edge\">\n<title>17&#45;&gt;18</title>\n<path fill=\"none\" stroke=\"black\" d=\"M855.41,-103.73C846.24,-94.51 836.51,-84.74 827.35,-75.53\"/>\n<polygon fill=\"black\" stroke=\"black\" points=\"829.68,-72.92 820.15,-68.3 824.72,-77.86 829.68,-72.92\"/>\n</g>\n<!-- 19 -->\n<g id=\"node20\" class=\"node\">\n<title>19</title>\n<path fill=\"#e88f4f\" stroke=\"black\" d=\"M946,-68C946,-68 872,-68 872,-68 866,-68 860,-62 860,-56 860,-56 860,-12 860,-12 860,-6 866,0 872,0 872,0 946,0 946,0 952,0 958,-6 958,-12 958,-12 958,-56 958,-56 958,-62 952,-68 946,-68\"/>\n<text text-anchor=\"middle\" x=\"909\" y=\"-52.8\" font-family=\"Helvetica,sans-Serif\" font-size=\"14.00\">gini = 0.18</text>\n<text text-anchor=\"middle\" x=\"909\" y=\"-37.8\" font-family=\"Helvetica,sans-Serif\" font-size=\"14.00\">samples = 10</text>\n<text text-anchor=\"middle\" x=\"909\" y=\"-22.8\" font-family=\"Helvetica,sans-Serif\" font-size=\"14.00\">value = [9, 1]</text>\n<text text-anchor=\"middle\" x=\"909\" y=\"-7.8\" font-family=\"Helvetica,sans-Serif\" font-size=\"14.00\">class = ave</text>\n</g>\n<!-- 17&#45;&gt;19 -->\n<g id=\"edge19\" class=\"edge\">\n<title>17&#45;&gt;19</title>\n<path fill=\"none\" stroke=\"black\" d=\"M900.84,-103.73C901.83,-95.43 902.87,-86.67 903.86,-78.28\"/>\n<polygon fill=\"black\" stroke=\"black\" points=\"907.34,-78.64 905.05,-68.3 900.39,-77.82 907.34,-78.64\"/>\n</g>\n<!-- 21 -->\n<g id=\"node22\" class=\"node\">\n<title>21</title>\n<path fill=\"#e78a47\" stroke=\"black\" d=\"M1081.5,-68C1081.5,-68 988.5,-68 988.5,-68 982.5,-68 976.5,-62 976.5,-56 976.5,-56 976.5,-12 976.5,-12 976.5,-6 982.5,0 988.5,0 988.5,0 1081.5,0 1081.5,0 1087.5,0 1093.5,-6 1093.5,-12 1093.5,-12 1093.5,-56 1093.5,-56 1093.5,-62 1087.5,-68 1081.5,-68\"/>\n<text text-anchor=\"middle\" x=\"1035\" y=\"-52.8\" font-family=\"Helvetica,sans-Serif\" font-size=\"14.00\">gini = 0.125</text>\n<text text-anchor=\"middle\" x=\"1035\" y=\"-37.8\" font-family=\"Helvetica,sans-Serif\" font-size=\"14.00\">samples = 299</text>\n<text text-anchor=\"middle\" x=\"1035\" y=\"-22.8\" font-family=\"Helvetica,sans-Serif\" font-size=\"14.00\">value = [279, 20]</text>\n<text text-anchor=\"middle\" x=\"1035\" y=\"-7.8\" font-family=\"Helvetica,sans-Serif\" font-size=\"14.00\">class = ave</text>\n</g>\n<!-- 20&#45;&gt;21 -->\n<g id=\"edge21\" class=\"edge\">\n<title>20&#45;&gt;21</title>\n<path fill=\"none\" stroke=\"black\" d=\"M1043.16,-103.73C1042.17,-95.43 1041.13,-86.67 1040.14,-78.28\"/>\n<polygon fill=\"black\" stroke=\"black\" points=\"1043.61,-77.82 1038.95,-68.3 1036.66,-78.64 1043.61,-77.82\"/>\n</g>\n<!-- 22 -->\n<g id=\"node23\" class=\"node\">\n<title>22</title>\n<path fill=\"#f8e0ce\" stroke=\"black\" d=\"M1194.5,-68C1194.5,-68 1123.5,-68 1123.5,-68 1117.5,-68 1111.5,-62 1111.5,-56 1111.5,-56 1111.5,-12 1111.5,-12 1111.5,-6 1117.5,0 1123.5,0 1123.5,0 1194.5,0 1194.5,0 1200.5,0 1206.5,-6 1206.5,-12 1206.5,-12 1206.5,-56 1206.5,-56 1206.5,-62 1200.5,-68 1194.5,-68\"/>\n<text text-anchor=\"middle\" x=\"1159\" y=\"-52.8\" font-family=\"Helvetica,sans-Serif\" font-size=\"14.00\">gini = 0.49</text>\n<text text-anchor=\"middle\" x=\"1159\" y=\"-37.8\" font-family=\"Helvetica,sans-Serif\" font-size=\"14.00\">samples = 7</text>\n<text text-anchor=\"middle\" x=\"1159\" y=\"-22.8\" font-family=\"Helvetica,sans-Serif\" font-size=\"14.00\">value = [4, 3]</text>\n<text text-anchor=\"middle\" x=\"1159\" y=\"-7.8\" font-family=\"Helvetica,sans-Serif\" font-size=\"14.00\">class = ave</text>\n</g>\n<!-- 20&#45;&gt;22 -->\n<g id=\"edge22\" class=\"edge\">\n<title>20&#45;&gt;22</title>\n<path fill=\"none\" stroke=\"black\" d=\"M1089.33,-103.73C1098.67,-94.51 1108.58,-84.74 1117.91,-75.53\"/>\n<polygon fill=\"black\" stroke=\"black\" points=\"1120.58,-77.81 1125.24,-68.3 1115.67,-72.83 1120.58,-77.81\"/>\n</g>\n<!-- 25 -->\n<g id=\"node26\" class=\"node\">\n<title>25</title>\n<path fill=\"#eda774\" stroke=\"black\" d=\"M1595,-425C1595,-425 1509,-425 1509,-425 1503,-425 1497,-419 1497,-413 1497,-413 1497,-354 1497,-354 1497,-348 1503,-342 1509,-342 1509,-342 1595,-342 1595,-342 1601,-342 1607,-348 1607,-354 1607,-354 1607,-413 1607,-413 1607,-419 1601,-425 1595,-425\"/>\n<text text-anchor=\"middle\" x=\"1552\" y=\"-409.8\" font-family=\"Helvetica,sans-Serif\" font-size=\"14.00\">pH &lt;= 3.265</text>\n<text text-anchor=\"middle\" x=\"1552\" y=\"-394.8\" font-family=\"Helvetica,sans-Serif\" font-size=\"14.00\">gini = 0.355</text>\n<text text-anchor=\"middle\" x=\"1552\" y=\"-379.8\" font-family=\"Helvetica,sans-Serif\" font-size=\"14.00\">samples = 65</text>\n<text text-anchor=\"middle\" x=\"1552\" y=\"-364.8\" font-family=\"Helvetica,sans-Serif\" font-size=\"14.00\">value = [50, 15]</text>\n<text text-anchor=\"middle\" x=\"1552\" y=\"-349.8\" font-family=\"Helvetica,sans-Serif\" font-size=\"14.00\">class = ave</text>\n</g>\n<!-- 24&#45;&gt;25 -->\n<g id=\"edge25\" class=\"edge\">\n<title>24&#45;&gt;25</title>\n<path fill=\"none\" stroke=\"black\" d=\"M1552,-460.91C1552,-452.65 1552,-443.86 1552,-435.3\"/>\n<polygon fill=\"black\" stroke=\"black\" points=\"1555.5,-435.02 1552,-425.02 1548.5,-435.02 1555.5,-435.02\"/>\n</g>\n<!-- 38 -->\n<g id=\"node39\" class=\"node\">\n<title>38</title>\n<path fill=\"#a6d3f3\" stroke=\"black\" d=\"M2247,-425C2247,-425 2143,-425 2143,-425 2137,-425 2131,-419 2131,-413 2131,-413 2131,-354 2131,-354 2131,-348 2137,-342 2143,-342 2143,-342 2247,-342 2247,-342 2253,-342 2259,-348 2259,-354 2259,-354 2259,-413 2259,-413 2259,-419 2253,-425 2247,-425\"/>\n<text text-anchor=\"middle\" x=\"2195\" y=\"-409.8\" font-family=\"Helvetica,sans-Serif\" font-size=\"14.00\">chlorides &lt;= 0.111</text>\n<text text-anchor=\"middle\" x=\"2195\" y=\"-394.8\" font-family=\"Helvetica,sans-Serif\" font-size=\"14.00\">gini = 0.458</text>\n<text text-anchor=\"middle\" x=\"2195\" y=\"-379.8\" font-family=\"Helvetica,sans-Serif\" font-size=\"14.00\">samples = 93</text>\n<text text-anchor=\"middle\" x=\"2195\" y=\"-364.8\" font-family=\"Helvetica,sans-Serif\" font-size=\"14.00\">value = [33, 60]</text>\n<text text-anchor=\"middle\" x=\"2195\" y=\"-349.8\" font-family=\"Helvetica,sans-Serif\" font-size=\"14.00\">class = excellent</text>\n</g>\n<!-- 24&#45;&gt;38 -->\n<g id=\"edge38\" class=\"edge\">\n<title>24&#45;&gt;38</title>\n<path fill=\"none\" stroke=\"black\" d=\"M1618.09,-489.47C1738.84,-467.5 1994.31,-421.02 2120.82,-398\"/>\n<polygon fill=\"black\" stroke=\"black\" points=\"2121.6,-401.41 2130.81,-396.18 2120.34,-394.53 2121.6,-401.41\"/>\n</g>\n<!-- 26 -->\n<g id=\"node27\" class=\"node\">\n<title>26</title>\n<path fill=\"#ffffff\" stroke=\"black\" d=\"M1517,-306C1517,-306 1431,-306 1431,-306 1425,-306 1419,-300 1419,-294 1419,-294 1419,-235 1419,-235 1419,-229 1425,-223 1431,-223 1431,-223 1517,-223 1517,-223 1523,-223 1529,-229 1529,-235 1529,-235 1529,-294 1529,-294 1529,-300 1523,-306 1517,-306\"/>\n<text text-anchor=\"middle\" x=\"1474\" y=\"-290.8\" font-family=\"Helvetica,sans-Serif\" font-size=\"14.00\">alcohol &lt;= 12.6</text>\n<text text-anchor=\"middle\" x=\"1474\" y=\"-275.8\" font-family=\"Helvetica,sans-Serif\" font-size=\"14.00\">gini = 0.5</text>\n<text text-anchor=\"middle\" x=\"1474\" y=\"-260.8\" font-family=\"Helvetica,sans-Serif\" font-size=\"14.00\">samples = 22</text>\n<text text-anchor=\"middle\" x=\"1474\" y=\"-245.8\" font-family=\"Helvetica,sans-Serif\" font-size=\"14.00\">value = [11, 11]</text>\n<text text-anchor=\"middle\" x=\"1474\" y=\"-230.8\" font-family=\"Helvetica,sans-Serif\" font-size=\"14.00\">class = ave</text>\n</g>\n<!-- 25&#45;&gt;26 -->\n<g id=\"edge26\" class=\"edge\">\n<title>25&#45;&gt;26</title>\n<path fill=\"none\" stroke=\"black\" d=\"M1524.94,-341.91C1519.07,-333.1 1512.8,-323.7 1506.74,-314.61\"/>\n<polygon fill=\"black\" stroke=\"black\" points=\"1509.47,-312.4 1501.01,-306.02 1503.65,-316.28 1509.47,-312.4\"/>\n</g>\n<!-- 31 -->\n<g id=\"node32\" class=\"node\">\n<title>31</title>\n<path fill=\"#e88e4d\" stroke=\"black\" d=\"M1703,-306C1703,-306 1559,-306 1559,-306 1553,-306 1547,-300 1547,-294 1547,-294 1547,-235 1547,-235 1547,-229 1553,-223 1559,-223 1559,-223 1703,-223 1703,-223 1709,-223 1715,-229 1715,-235 1715,-235 1715,-294 1715,-294 1715,-300 1709,-306 1703,-306\"/>\n<text text-anchor=\"middle\" x=\"1631\" y=\"-290.8\" font-family=\"Helvetica,sans-Serif\" font-size=\"14.00\">total sulfur dioxide &lt;= 8.5</text>\n<text text-anchor=\"middle\" x=\"1631\" y=\"-275.8\" font-family=\"Helvetica,sans-Serif\" font-size=\"14.00\">gini = 0.169</text>\n<text text-anchor=\"middle\" x=\"1631\" y=\"-260.8\" font-family=\"Helvetica,sans-Serif\" font-size=\"14.00\">samples = 43</text>\n<text text-anchor=\"middle\" x=\"1631\" y=\"-245.8\" font-family=\"Helvetica,sans-Serif\" font-size=\"14.00\">value = [39, 4]</text>\n<text text-anchor=\"middle\" x=\"1631\" y=\"-230.8\" font-family=\"Helvetica,sans-Serif\" font-size=\"14.00\">class = ave</text>\n</g>\n<!-- 25&#45;&gt;31 -->\n<g id=\"edge31\" class=\"edge\">\n<title>25&#45;&gt;31</title>\n<path fill=\"none\" stroke=\"black\" d=\"M1579.41,-341.91C1585.41,-333.01 1591.83,-323.51 1598.03,-314.33\"/>\n<polygon fill=\"black\" stroke=\"black\" points=\"1600.94,-316.27 1603.64,-306.02 1595.14,-312.35 1600.94,-316.27\"/>\n</g>\n<!-- 27 -->\n<g id=\"node28\" class=\"node\">\n<title>27</title>\n<path fill=\"#b7dbf6\" stroke=\"black\" d=\"M1412.5,-187C1412.5,-187 1313.5,-187 1313.5,-187 1307.5,-187 1301.5,-181 1301.5,-175 1301.5,-175 1301.5,-116 1301.5,-116 1301.5,-110 1307.5,-104 1313.5,-104 1313.5,-104 1412.5,-104 1412.5,-104 1418.5,-104 1424.5,-110 1424.5,-116 1424.5,-116 1424.5,-175 1424.5,-175 1424.5,-181 1418.5,-187 1412.5,-187\"/>\n<text text-anchor=\"middle\" x=\"1363\" y=\"-171.8\" font-family=\"Helvetica,sans-Serif\" font-size=\"14.00\">citric acid &lt;= 0.56</text>\n<text text-anchor=\"middle\" x=\"1363\" y=\"-156.8\" font-family=\"Helvetica,sans-Serif\" font-size=\"14.00\">gini = 0.475</text>\n<text text-anchor=\"middle\" x=\"1363\" y=\"-141.8\" font-family=\"Helvetica,sans-Serif\" font-size=\"14.00\">samples = 18</text>\n<text text-anchor=\"middle\" x=\"1363\" y=\"-126.8\" font-family=\"Helvetica,sans-Serif\" font-size=\"14.00\">value = [7, 11]</text>\n<text text-anchor=\"middle\" x=\"1363\" y=\"-111.8\" font-family=\"Helvetica,sans-Serif\" font-size=\"14.00\">class = excellent</text>\n</g>\n<!-- 26&#45;&gt;27 -->\n<g id=\"edge27\" class=\"edge\">\n<title>26&#45;&gt;27</title>\n<path fill=\"none\" stroke=\"black\" d=\"M1435.49,-222.91C1426.79,-213.74 1417.48,-203.93 1408.53,-194.49\"/>\n<polygon fill=\"black\" stroke=\"black\" points=\"1410.86,-191.87 1401.44,-187.02 1405.79,-196.68 1410.86,-191.87\"/>\n</g>\n<!-- 30 -->\n<g id=\"node31\" class=\"node\">\n<title>30</title>\n<path fill=\"#e58139\" stroke=\"black\" d=\"M1525.5,-179.5C1525.5,-179.5 1454.5,-179.5 1454.5,-179.5 1448.5,-179.5 1442.5,-173.5 1442.5,-167.5 1442.5,-167.5 1442.5,-123.5 1442.5,-123.5 1442.5,-117.5 1448.5,-111.5 1454.5,-111.5 1454.5,-111.5 1525.5,-111.5 1525.5,-111.5 1531.5,-111.5 1537.5,-117.5 1537.5,-123.5 1537.5,-123.5 1537.5,-167.5 1537.5,-167.5 1537.5,-173.5 1531.5,-179.5 1525.5,-179.5\"/>\n<text text-anchor=\"middle\" x=\"1490\" y=\"-164.3\" font-family=\"Helvetica,sans-Serif\" font-size=\"14.00\">gini = 0.0</text>\n<text text-anchor=\"middle\" x=\"1490\" y=\"-149.3\" font-family=\"Helvetica,sans-Serif\" font-size=\"14.00\">samples = 4</text>\n<text text-anchor=\"middle\" x=\"1490\" y=\"-134.3\" font-family=\"Helvetica,sans-Serif\" font-size=\"14.00\">value = [4, 0]</text>\n<text text-anchor=\"middle\" x=\"1490\" y=\"-119.3\" font-family=\"Helvetica,sans-Serif\" font-size=\"14.00\">class = ave</text>\n</g>\n<!-- 26&#45;&gt;30 -->\n<g id=\"edge30\" class=\"edge\">\n<title>26&#45;&gt;30</title>\n<path fill=\"none\" stroke=\"black\" d=\"M1479.55,-222.91C1481.01,-212.2 1482.6,-200.62 1484.08,-189.78\"/>\n<polygon fill=\"black\" stroke=\"black\" points=\"1487.58,-190.05 1485.46,-179.67 1480.64,-189.1 1487.58,-190.05\"/>\n</g>\n<!-- 28 -->\n<g id=\"node29\" class=\"node\">\n<title>28</title>\n<path fill=\"#81c1ee\" stroke=\"black\" d=\"M1329,-68C1329,-68 1237,-68 1237,-68 1231,-68 1225,-62 1225,-56 1225,-56 1225,-12 1225,-12 1225,-6 1231,0 1237,0 1237,0 1329,0 1329,0 1335,0 1341,-6 1341,-12 1341,-12 1341,-56 1341,-56 1341,-62 1335,-68 1329,-68\"/>\n<text text-anchor=\"middle\" x=\"1283\" y=\"-52.8\" font-family=\"Helvetica,sans-Serif\" font-size=\"14.00\">gini = 0.391</text>\n<text text-anchor=\"middle\" x=\"1283\" y=\"-37.8\" font-family=\"Helvetica,sans-Serif\" font-size=\"14.00\">samples = 15</text>\n<text text-anchor=\"middle\" x=\"1283\" y=\"-22.8\" font-family=\"Helvetica,sans-Serif\" font-size=\"14.00\">value = [4, 11]</text>\n<text text-anchor=\"middle\" x=\"1283\" y=\"-7.8\" font-family=\"Helvetica,sans-Serif\" font-size=\"14.00\">class = excellent</text>\n</g>\n<!-- 27&#45;&gt;28 -->\n<g id=\"edge28\" class=\"edge\">\n<title>27&#45;&gt;28</title>\n<path fill=\"none\" stroke=\"black\" d=\"M1333.21,-103.73C1326.75,-94.88 1319.9,-85.51 1313.41,-76.63\"/>\n<polygon fill=\"black\" stroke=\"black\" points=\"1316.05,-74.31 1307.33,-68.3 1310.4,-78.44 1316.05,-74.31\"/>\n</g>\n<!-- 29 -->\n<g id=\"node30\" class=\"node\">\n<title>29</title>\n<path fill=\"#e58139\" stroke=\"black\" d=\"M1442.5,-68C1442.5,-68 1371.5,-68 1371.5,-68 1365.5,-68 1359.5,-62 1359.5,-56 1359.5,-56 1359.5,-12 1359.5,-12 1359.5,-6 1365.5,0 1371.5,0 1371.5,0 1442.5,0 1442.5,0 1448.5,0 1454.5,-6 1454.5,-12 1454.5,-12 1454.5,-56 1454.5,-56 1454.5,-62 1448.5,-68 1442.5,-68\"/>\n<text text-anchor=\"middle\" x=\"1407\" y=\"-52.8\" font-family=\"Helvetica,sans-Serif\" font-size=\"14.00\">gini = 0.0</text>\n<text text-anchor=\"middle\" x=\"1407\" y=\"-37.8\" font-family=\"Helvetica,sans-Serif\" font-size=\"14.00\">samples = 3</text>\n<text text-anchor=\"middle\" x=\"1407\" y=\"-22.8\" font-family=\"Helvetica,sans-Serif\" font-size=\"14.00\">value = [3, 0]</text>\n<text text-anchor=\"middle\" x=\"1407\" y=\"-7.8\" font-family=\"Helvetica,sans-Serif\" font-size=\"14.00\">class = ave</text>\n</g>\n<!-- 27&#45;&gt;29 -->\n<g id=\"edge29\" class=\"edge\">\n<title>27&#45;&gt;29</title>\n<path fill=\"none\" stroke=\"black\" d=\"M1379.38,-103.73C1382.79,-95.24 1386.39,-86.28 1389.83,-77.73\"/>\n<polygon fill=\"black\" stroke=\"black\" points=\"1393.14,-78.88 1393.62,-68.3 1386.64,-76.27 1393.14,-78.88\"/>\n</g>\n<!-- 32 -->\n<g id=\"node33\" class=\"node\">\n<title>32</title>\n<path fill=\"#9ccef2\" stroke=\"black\" d=\"M1669,-187C1669,-187 1577,-187 1577,-187 1571,-187 1565,-181 1565,-175 1565,-175 1565,-116 1565,-116 1565,-110 1571,-104 1577,-104 1577,-104 1669,-104 1669,-104 1675,-104 1681,-110 1681,-116 1681,-116 1681,-175 1681,-175 1681,-181 1675,-187 1669,-187\"/>\n<text text-anchor=\"middle\" x=\"1623\" y=\"-171.8\" font-family=\"Helvetica,sans-Serif\" font-size=\"14.00\">pH &lt;= 3.345</text>\n<text text-anchor=\"middle\" x=\"1623\" y=\"-156.8\" font-family=\"Helvetica,sans-Serif\" font-size=\"14.00\">gini = 0.444</text>\n<text text-anchor=\"middle\" x=\"1623\" y=\"-141.8\" font-family=\"Helvetica,sans-Serif\" font-size=\"14.00\">samples = 3</text>\n<text text-anchor=\"middle\" x=\"1623\" y=\"-126.8\" font-family=\"Helvetica,sans-Serif\" font-size=\"14.00\">value = [1, 2]</text>\n<text text-anchor=\"middle\" x=\"1623\" y=\"-111.8\" font-family=\"Helvetica,sans-Serif\" font-size=\"14.00\">class = excellent</text>\n</g>\n<!-- 31&#45;&gt;32 -->\n<g id=\"edge32\" class=\"edge\">\n<title>31&#45;&gt;32</title>\n<path fill=\"none\" stroke=\"black\" d=\"M1628.22,-222.91C1627.65,-214.56 1627.05,-205.67 1626.45,-197.02\"/>\n<polygon fill=\"black\" stroke=\"black\" points=\"1629.94,-196.76 1625.77,-187.02 1622.96,-197.24 1629.94,-196.76\"/>\n</g>\n<!-- 35 -->\n<g id=\"node36\" class=\"node\">\n<title>35</title>\n<path fill=\"#e68843\" stroke=\"black\" d=\"M1870.5,-187C1870.5,-187 1711.5,-187 1711.5,-187 1705.5,-187 1699.5,-181 1699.5,-175 1699.5,-175 1699.5,-116 1699.5,-116 1699.5,-110 1705.5,-104 1711.5,-104 1711.5,-104 1870.5,-104 1870.5,-104 1876.5,-104 1882.5,-110 1882.5,-116 1882.5,-116 1882.5,-175 1882.5,-175 1882.5,-181 1876.5,-187 1870.5,-187\"/>\n<text text-anchor=\"middle\" x=\"1791\" y=\"-171.8\" font-family=\"Helvetica,sans-Serif\" font-size=\"14.00\">total sulfur dioxide &lt;= 102.5</text>\n<text text-anchor=\"middle\" x=\"1791\" y=\"-156.8\" font-family=\"Helvetica,sans-Serif\" font-size=\"14.00\">gini = 0.095</text>\n<text text-anchor=\"middle\" x=\"1791\" y=\"-141.8\" font-family=\"Helvetica,sans-Serif\" font-size=\"14.00\">samples = 40</text>\n<text text-anchor=\"middle\" x=\"1791\" y=\"-126.8\" font-family=\"Helvetica,sans-Serif\" font-size=\"14.00\">value = [38, 2]</text>\n<text text-anchor=\"middle\" x=\"1791\" y=\"-111.8\" font-family=\"Helvetica,sans-Serif\" font-size=\"14.00\">class = ave</text>\n</g>\n<!-- 31&#45;&gt;35 -->\n<g id=\"edge35\" class=\"edge\">\n<title>31&#45;&gt;35</title>\n<path fill=\"none\" stroke=\"black\" d=\"M1686.51,-222.91C1699.67,-213.29 1713.8,-202.95 1727.29,-193.09\"/>\n<polygon fill=\"black\" stroke=\"black\" points=\"1729.58,-195.75 1735.59,-187.02 1725.45,-190.1 1729.58,-195.75\"/>\n</g>\n<!-- 33 -->\n<g id=\"node34\" class=\"node\">\n<title>33</title>\n<path fill=\"#e58139\" stroke=\"black\" d=\"M1555.5,-68C1555.5,-68 1484.5,-68 1484.5,-68 1478.5,-68 1472.5,-62 1472.5,-56 1472.5,-56 1472.5,-12 1472.5,-12 1472.5,-6 1478.5,0 1484.5,0 1484.5,0 1555.5,0 1555.5,0 1561.5,0 1567.5,-6 1567.5,-12 1567.5,-12 1567.5,-56 1567.5,-56 1567.5,-62 1561.5,-68 1555.5,-68\"/>\n<text text-anchor=\"middle\" x=\"1520\" y=\"-52.8\" font-family=\"Helvetica,sans-Serif\" font-size=\"14.00\">gini = 0.0</text>\n<text text-anchor=\"middle\" x=\"1520\" y=\"-37.8\" font-family=\"Helvetica,sans-Serif\" font-size=\"14.00\">samples = 1</text>\n<text text-anchor=\"middle\" x=\"1520\" y=\"-22.8\" font-family=\"Helvetica,sans-Serif\" font-size=\"14.00\">value = [1, 0]</text>\n<text text-anchor=\"middle\" x=\"1520\" y=\"-7.8\" font-family=\"Helvetica,sans-Serif\" font-size=\"14.00\">class = ave</text>\n</g>\n<!-- 32&#45;&gt;33 -->\n<g id=\"edge33\" class=\"edge\">\n<title>32&#45;&gt;33</title>\n<path fill=\"none\" stroke=\"black\" d=\"M1584.65,-103.73C1576.07,-94.61 1566.97,-84.93 1558.39,-75.81\"/>\n<polygon fill=\"black\" stroke=\"black\" points=\"1560.72,-73.19 1551.32,-68.3 1555.63,-77.98 1560.72,-73.19\"/>\n</g>\n<!-- 34 -->\n<g id=\"node35\" class=\"node\">\n<title>34</title>\n<path fill=\"#399de5\" stroke=\"black\" d=\"M1690,-68C1690,-68 1598,-68 1598,-68 1592,-68 1586,-62 1586,-56 1586,-56 1586,-12 1586,-12 1586,-6 1592,0 1598,0 1598,0 1690,0 1690,0 1696,0 1702,-6 1702,-12 1702,-12 1702,-56 1702,-56 1702,-62 1696,-68 1690,-68\"/>\n<text text-anchor=\"middle\" x=\"1644\" y=\"-52.8\" font-family=\"Helvetica,sans-Serif\" font-size=\"14.00\">gini = 0.0</text>\n<text text-anchor=\"middle\" x=\"1644\" y=\"-37.8\" font-family=\"Helvetica,sans-Serif\" font-size=\"14.00\">samples = 2</text>\n<text text-anchor=\"middle\" x=\"1644\" y=\"-22.8\" font-family=\"Helvetica,sans-Serif\" font-size=\"14.00\">value = [0, 2]</text>\n<text text-anchor=\"middle\" x=\"1644\" y=\"-7.8\" font-family=\"Helvetica,sans-Serif\" font-size=\"14.00\">class = excellent</text>\n</g>\n<!-- 32&#45;&gt;34 -->\n<g id=\"edge34\" class=\"edge\">\n<title>32&#45;&gt;34</title>\n<path fill=\"none\" stroke=\"black\" d=\"M1630.82,-103.73C1632.41,-95.43 1634.09,-86.67 1635.7,-78.28\"/>\n<polygon fill=\"black\" stroke=\"black\" points=\"1639.17,-78.78 1637.61,-68.3 1632.29,-77.46 1639.17,-78.78\"/>\n</g>\n<!-- 36 -->\n<g id=\"node37\" class=\"node\">\n<title>36</title>\n<path fill=\"#e6843e\" stroke=\"black\" d=\"M1810,-68C1810,-68 1732,-68 1732,-68 1726,-68 1720,-62 1720,-56 1720,-56 1720,-12 1720,-12 1720,-6 1726,0 1732,0 1732,0 1810,0 1810,0 1816,0 1822,-6 1822,-12 1822,-12 1822,-56 1822,-56 1822,-62 1816,-68 1810,-68\"/>\n<text text-anchor=\"middle\" x=\"1771\" y=\"-52.8\" font-family=\"Helvetica,sans-Serif\" font-size=\"14.00\">gini = 0.05</text>\n<text text-anchor=\"middle\" x=\"1771\" y=\"-37.8\" font-family=\"Helvetica,sans-Serif\" font-size=\"14.00\">samples = 39</text>\n<text text-anchor=\"middle\" x=\"1771\" y=\"-22.8\" font-family=\"Helvetica,sans-Serif\" font-size=\"14.00\">value = [38, 1]</text>\n<text text-anchor=\"middle\" x=\"1771\" y=\"-7.8\" font-family=\"Helvetica,sans-Serif\" font-size=\"14.00\">class = ave</text>\n</g>\n<!-- 35&#45;&gt;36 -->\n<g id=\"edge36\" class=\"edge\">\n<title>35&#45;&gt;36</title>\n<path fill=\"none\" stroke=\"black\" d=\"M1783.55,-103.73C1782.04,-95.43 1780.44,-86.67 1778.91,-78.28\"/>\n<polygon fill=\"black\" stroke=\"black\" points=\"1782.32,-77.51 1777.08,-68.3 1775.44,-78.77 1782.32,-77.51\"/>\n</g>\n<!-- 37 -->\n<g id=\"node38\" class=\"node\">\n<title>37</title>\n<path fill=\"#399de5\" stroke=\"black\" d=\"M1944,-68C1944,-68 1852,-68 1852,-68 1846,-68 1840,-62 1840,-56 1840,-56 1840,-12 1840,-12 1840,-6 1846,0 1852,0 1852,0 1944,0 1944,0 1950,0 1956,-6 1956,-12 1956,-12 1956,-56 1956,-56 1956,-62 1950,-68 1944,-68\"/>\n<text text-anchor=\"middle\" x=\"1898\" y=\"-52.8\" font-family=\"Helvetica,sans-Serif\" font-size=\"14.00\">gini = 0.0</text>\n<text text-anchor=\"middle\" x=\"1898\" y=\"-37.8\" font-family=\"Helvetica,sans-Serif\" font-size=\"14.00\">samples = 1</text>\n<text text-anchor=\"middle\" x=\"1898\" y=\"-22.8\" font-family=\"Helvetica,sans-Serif\" font-size=\"14.00\">value = [0, 1]</text>\n<text text-anchor=\"middle\" x=\"1898\" y=\"-7.8\" font-family=\"Helvetica,sans-Serif\" font-size=\"14.00\">class = excellent</text>\n</g>\n<!-- 35&#45;&gt;37 -->\n<g id=\"edge37\" class=\"edge\">\n<title>35&#45;&gt;37</title>\n<path fill=\"none\" stroke=\"black\" d=\"M1830.84,-103.73C1839.84,-94.51 1849.4,-84.74 1858.39,-75.53\"/>\n<polygon fill=\"black\" stroke=\"black\" points=\"1860.97,-77.9 1865.46,-68.3 1855.97,-73.01 1860.97,-77.9\"/>\n</g>\n<!-- 39 -->\n<g id=\"node40\" class=\"node\">\n<title>39</title>\n<path fill=\"#95cbf1\" stroke=\"black\" d=\"M2269.5,-306C2269.5,-306 2120.5,-306 2120.5,-306 2114.5,-306 2108.5,-300 2108.5,-294 2108.5,-294 2108.5,-235 2108.5,-235 2108.5,-229 2114.5,-223 2120.5,-223 2120.5,-223 2269.5,-223 2269.5,-223 2275.5,-223 2281.5,-229 2281.5,-235 2281.5,-235 2281.5,-294 2281.5,-294 2281.5,-300 2275.5,-306 2269.5,-306\"/>\n<text text-anchor=\"middle\" x=\"2195\" y=\"-290.8\" font-family=\"Helvetica,sans-Serif\" font-size=\"14.00\">free sulfur dioxide &lt;= 18.5</text>\n<text text-anchor=\"middle\" x=\"2195\" y=\"-275.8\" font-family=\"Helvetica,sans-Serif\" font-size=\"14.00\">gini = 0.433</text>\n<text text-anchor=\"middle\" x=\"2195\" y=\"-260.8\" font-family=\"Helvetica,sans-Serif\" font-size=\"14.00\">samples = 85</text>\n<text text-anchor=\"middle\" x=\"2195\" y=\"-245.8\" font-family=\"Helvetica,sans-Serif\" font-size=\"14.00\">value = [27, 58]</text>\n<text text-anchor=\"middle\" x=\"2195\" y=\"-230.8\" font-family=\"Helvetica,sans-Serif\" font-size=\"14.00\">class = excellent</text>\n</g>\n<!-- 38&#45;&gt;39 -->\n<g id=\"edge39\" class=\"edge\">\n<title>38&#45;&gt;39</title>\n<path fill=\"none\" stroke=\"black\" d=\"M2195,-341.91C2195,-333.65 2195,-324.86 2195,-316.3\"/>\n<polygon fill=\"black\" stroke=\"black\" points=\"2198.5,-316.02 2195,-306.02 2191.5,-316.02 2198.5,-316.02\"/>\n</g>\n<!-- 46 -->\n<g id=\"node47\" class=\"node\">\n<title>46</title>\n<path fill=\"#eeab7b\" stroke=\"black\" d=\"M2487,-306C2487,-306 2379,-306 2379,-306 2373,-306 2367,-300 2367,-294 2367,-294 2367,-235 2367,-235 2367,-229 2373,-223 2379,-223 2379,-223 2487,-223 2487,-223 2493,-223 2499,-229 2499,-235 2499,-235 2499,-294 2499,-294 2499,-300 2493,-306 2487,-306\"/>\n<text text-anchor=\"middle\" x=\"2433\" y=\"-290.8\" font-family=\"Helvetica,sans-Serif\" font-size=\"14.00\">sulphates &lt;= 0.805</text>\n<text text-anchor=\"middle\" x=\"2433\" y=\"-275.8\" font-family=\"Helvetica,sans-Serif\" font-size=\"14.00\">gini = 0.375</text>\n<text text-anchor=\"middle\" x=\"2433\" y=\"-260.8\" font-family=\"Helvetica,sans-Serif\" font-size=\"14.00\">samples = 8</text>\n<text text-anchor=\"middle\" x=\"2433\" y=\"-245.8\" font-family=\"Helvetica,sans-Serif\" font-size=\"14.00\">value = [6, 2]</text>\n<text text-anchor=\"middle\" x=\"2433\" y=\"-230.8\" font-family=\"Helvetica,sans-Serif\" font-size=\"14.00\">class = ave</text>\n</g>\n<!-- 38&#45;&gt;46 -->\n<g id=\"edge46\" class=\"edge\">\n<title>38&#45;&gt;46</title>\n<path fill=\"none\" stroke=\"black\" d=\"M2259.09,-350.99C2289.42,-336.08 2325.84,-318.18 2357.49,-302.62\"/>\n<polygon fill=\"black\" stroke=\"black\" points=\"2359.29,-305.64 2366.72,-298.08 2356.2,-299.36 2359.29,-305.64\"/>\n</g>\n<!-- 40 -->\n<g id=\"node41\" class=\"node\">\n<title>40</title>\n<path fill=\"#70b8ec\" stroke=\"black\" d=\"M2184.5,-187C2184.5,-187 2071.5,-187 2071.5,-187 2065.5,-187 2059.5,-181 2059.5,-175 2059.5,-175 2059.5,-116 2059.5,-116 2059.5,-110 2065.5,-104 2071.5,-104 2071.5,-104 2184.5,-104 2184.5,-104 2190.5,-104 2196.5,-110 2196.5,-116 2196.5,-116 2196.5,-175 2196.5,-175 2196.5,-181 2190.5,-187 2184.5,-187\"/>\n<text text-anchor=\"middle\" x=\"2128\" y=\"-171.8\" font-family=\"Helvetica,sans-Serif\" font-size=\"14.00\">fixed acidity &lt;= 9.55</text>\n<text text-anchor=\"middle\" x=\"2128\" y=\"-156.8\" font-family=\"Helvetica,sans-Serif\" font-size=\"14.00\">gini = 0.341</text>\n<text text-anchor=\"middle\" x=\"2128\" y=\"-141.8\" font-family=\"Helvetica,sans-Serif\" font-size=\"14.00\">samples = 55</text>\n<text text-anchor=\"middle\" x=\"2128\" y=\"-126.8\" font-family=\"Helvetica,sans-Serif\" font-size=\"14.00\">value = [12, 43]</text>\n<text text-anchor=\"middle\" x=\"2128\" y=\"-111.8\" font-family=\"Helvetica,sans-Serif\" font-size=\"14.00\">class = excellent</text>\n</g>\n<!-- 39&#45;&gt;40 -->\n<g id=\"edge40\" class=\"edge\">\n<title>39&#45;&gt;40</title>\n<path fill=\"none\" stroke=\"black\" d=\"M2171.75,-222.91C2166.77,-214.2 2161.44,-204.9 2156.29,-195.89\"/>\n<polygon fill=\"black\" stroke=\"black\" points=\"2159.21,-193.96 2151.2,-187.02 2153.14,-197.44 2159.21,-193.96\"/>\n</g>\n<!-- 43 -->\n<g id=\"node44\" class=\"node\">\n<title>43</title>\n<path fill=\"#ffffff\" stroke=\"black\" d=\"M2355,-187C2355,-187 2227,-187 2227,-187 2221,-187 2215,-181 2215,-175 2215,-175 2215,-116 2215,-116 2215,-110 2221,-104 2227,-104 2227,-104 2355,-104 2355,-104 2361,-104 2367,-110 2367,-116 2367,-116 2367,-175 2367,-175 2367,-181 2361,-187 2355,-187\"/>\n<text text-anchor=\"middle\" x=\"2291\" y=\"-171.8\" font-family=\"Helvetica,sans-Serif\" font-size=\"14.00\">residual sugar &lt;= 1.95</text>\n<text text-anchor=\"middle\" x=\"2291\" y=\"-156.8\" font-family=\"Helvetica,sans-Serif\" font-size=\"14.00\">gini = 0.5</text>\n<text text-anchor=\"middle\" x=\"2291\" y=\"-141.8\" font-family=\"Helvetica,sans-Serif\" font-size=\"14.00\">samples = 30</text>\n<text text-anchor=\"middle\" x=\"2291\" y=\"-126.8\" font-family=\"Helvetica,sans-Serif\" font-size=\"14.00\">value = [15, 15]</text>\n<text text-anchor=\"middle\" x=\"2291\" y=\"-111.8\" font-family=\"Helvetica,sans-Serif\" font-size=\"14.00\">class = ave</text>\n</g>\n<!-- 39&#45;&gt;43 -->\n<g id=\"edge43\" class=\"edge\">\n<title>39&#45;&gt;43</title>\n<path fill=\"none\" stroke=\"black\" d=\"M2228.31,-222.91C2235.75,-213.83 2243.72,-204.12 2251.39,-194.77\"/>\n<polygon fill=\"black\" stroke=\"black\" points=\"2254.11,-196.97 2257.75,-187.02 2248.7,-192.53 2254.11,-196.97\"/>\n</g>\n<!-- 41 -->\n<g id=\"node42\" class=\"node\">\n<title>41</title>\n<path fill=\"#4ca6e7\" stroke=\"black\" d=\"M2078,-68C2078,-68 1986,-68 1986,-68 1980,-68 1974,-62 1974,-56 1974,-56 1974,-12 1974,-12 1974,-6 1980,0 1986,0 1986,0 2078,0 2078,0 2084,0 2090,-6 2090,-12 2090,-12 2090,-56 2090,-56 2090,-62 2084,-68 2078,-68\"/>\n<text text-anchor=\"middle\" x=\"2032\" y=\"-52.8\" font-family=\"Helvetica,sans-Serif\" font-size=\"14.00\">gini = 0.157</text>\n<text text-anchor=\"middle\" x=\"2032\" y=\"-37.8\" font-family=\"Helvetica,sans-Serif\" font-size=\"14.00\">samples = 35</text>\n<text text-anchor=\"middle\" x=\"2032\" y=\"-22.8\" font-family=\"Helvetica,sans-Serif\" font-size=\"14.00\">value = [3, 32]</text>\n<text text-anchor=\"middle\" x=\"2032\" y=\"-7.8\" font-family=\"Helvetica,sans-Serif\" font-size=\"14.00\">class = excellent</text>\n</g>\n<!-- 40&#45;&gt;41 -->\n<g id=\"edge41\" class=\"edge\">\n<title>40&#45;&gt;41</title>\n<path fill=\"none\" stroke=\"black\" d=\"M2092.25,-103.73C2084.34,-94.7 2075.94,-85.12 2068.02,-76.08\"/>\n<polygon fill=\"black\" stroke=\"black\" points=\"2070.42,-73.51 2061.19,-68.3 2065.15,-78.13 2070.42,-73.51\"/>\n</g>\n<!-- 42 -->\n<g id=\"node43\" class=\"node\">\n<title>42</title>\n<path fill=\"#dbedfa\" stroke=\"black\" d=\"M2212,-68C2212,-68 2120,-68 2120,-68 2114,-68 2108,-62 2108,-56 2108,-56 2108,-12 2108,-12 2108,-6 2114,0 2120,0 2120,0 2212,0 2212,0 2218,0 2224,-6 2224,-12 2224,-12 2224,-56 2224,-56 2224,-62 2218,-68 2212,-68\"/>\n<text text-anchor=\"middle\" x=\"2166\" y=\"-52.8\" font-family=\"Helvetica,sans-Serif\" font-size=\"14.00\">gini = 0.495</text>\n<text text-anchor=\"middle\" x=\"2166\" y=\"-37.8\" font-family=\"Helvetica,sans-Serif\" font-size=\"14.00\">samples = 20</text>\n<text text-anchor=\"middle\" x=\"2166\" y=\"-22.8\" font-family=\"Helvetica,sans-Serif\" font-size=\"14.00\">value = [9, 11]</text>\n<text text-anchor=\"middle\" x=\"2166\" y=\"-7.8\" font-family=\"Helvetica,sans-Serif\" font-size=\"14.00\">class = excellent</text>\n</g>\n<!-- 40&#45;&gt;42 -->\n<g id=\"edge42\" class=\"edge\">\n<title>40&#45;&gt;42</title>\n<path fill=\"none\" stroke=\"black\" d=\"M2142.15,-103.73C2145.06,-95.34 2148.14,-86.47 2151.08,-78.01\"/>\n<polygon fill=\"black\" stroke=\"black\" points=\"2154.47,-78.89 2154.44,-68.3 2147.86,-76.6 2154.47,-78.89\"/>\n</g>\n<!-- 44 -->\n<g id=\"node45\" class=\"node\">\n<title>44</title>\n<path fill=\"#eca06a\" stroke=\"black\" d=\"M2328,-68C2328,-68 2254,-68 2254,-68 2248,-68 2242,-62 2242,-56 2242,-56 2242,-12 2242,-12 2242,-6 2248,0 2254,0 2254,0 2328,0 2328,0 2334,0 2340,-6 2340,-12 2340,-12 2340,-56 2340,-56 2340,-62 2334,-68 2328,-68\"/>\n<text text-anchor=\"middle\" x=\"2291\" y=\"-52.8\" font-family=\"Helvetica,sans-Serif\" font-size=\"14.00\">gini = 0.32</text>\n<text text-anchor=\"middle\" x=\"2291\" y=\"-37.8\" font-family=\"Helvetica,sans-Serif\" font-size=\"14.00\">samples = 10</text>\n<text text-anchor=\"middle\" x=\"2291\" y=\"-22.8\" font-family=\"Helvetica,sans-Serif\" font-size=\"14.00\">value = [8, 2]</text>\n<text text-anchor=\"middle\" x=\"2291\" y=\"-7.8\" font-family=\"Helvetica,sans-Serif\" font-size=\"14.00\">class = ave</text>\n</g>\n<!-- 43&#45;&gt;44 -->\n<g id=\"edge44\" class=\"edge\">\n<title>43&#45;&gt;44</title>\n<path fill=\"none\" stroke=\"black\" d=\"M2291,-103.73C2291,-95.52 2291,-86.86 2291,-78.56\"/>\n<polygon fill=\"black\" stroke=\"black\" points=\"2294.5,-78.3 2291,-68.3 2287.5,-78.3 2294.5,-78.3\"/>\n</g>\n<!-- 45 -->\n<g id=\"node46\" class=\"node\">\n<title>45</title>\n<path fill=\"#a4d2f3\" stroke=\"black\" d=\"M2462,-68C2462,-68 2370,-68 2370,-68 2364,-68 2358,-62 2358,-56 2358,-56 2358,-12 2358,-12 2358,-6 2364,0 2370,0 2370,0 2462,0 2462,0 2468,0 2474,-6 2474,-12 2474,-12 2474,-56 2474,-56 2474,-62 2468,-68 2462,-68\"/>\n<text text-anchor=\"middle\" x=\"2416\" y=\"-52.8\" font-family=\"Helvetica,sans-Serif\" font-size=\"14.00\">gini = 0.455</text>\n<text text-anchor=\"middle\" x=\"2416\" y=\"-37.8\" font-family=\"Helvetica,sans-Serif\" font-size=\"14.00\">samples = 20</text>\n<text text-anchor=\"middle\" x=\"2416\" y=\"-22.8\" font-family=\"Helvetica,sans-Serif\" font-size=\"14.00\">value = [7, 13]</text>\n<text text-anchor=\"middle\" x=\"2416\" y=\"-7.8\" font-family=\"Helvetica,sans-Serif\" font-size=\"14.00\">class = excellent</text>\n</g>\n<!-- 43&#45;&gt;45 -->\n<g id=\"edge45\" class=\"edge\">\n<title>43&#45;&gt;45</title>\n<path fill=\"none\" stroke=\"black\" d=\"M2337.55,-103.73C2348.27,-94.33 2359.67,-84.35 2370.35,-74.99\"/>\n<polygon fill=\"black\" stroke=\"black\" points=\"2372.77,-77.52 2377.99,-68.3 2368.16,-72.26 2372.77,-77.52\"/>\n</g>\n<!-- 47 -->\n<g id=\"node48\" class=\"node\">\n<title>47</title>\n<path fill=\"#e58139\" stroke=\"black\" d=\"M2468.5,-179.5C2468.5,-179.5 2397.5,-179.5 2397.5,-179.5 2391.5,-179.5 2385.5,-173.5 2385.5,-167.5 2385.5,-167.5 2385.5,-123.5 2385.5,-123.5 2385.5,-117.5 2391.5,-111.5 2397.5,-111.5 2397.5,-111.5 2468.5,-111.5 2468.5,-111.5 2474.5,-111.5 2480.5,-117.5 2480.5,-123.5 2480.5,-123.5 2480.5,-167.5 2480.5,-167.5 2480.5,-173.5 2474.5,-179.5 2468.5,-179.5\"/>\n<text text-anchor=\"middle\" x=\"2433\" y=\"-164.3\" font-family=\"Helvetica,sans-Serif\" font-size=\"14.00\">gini = 0.0</text>\n<text text-anchor=\"middle\" x=\"2433\" y=\"-149.3\" font-family=\"Helvetica,sans-Serif\" font-size=\"14.00\">samples = 6</text>\n<text text-anchor=\"middle\" x=\"2433\" y=\"-134.3\" font-family=\"Helvetica,sans-Serif\" font-size=\"14.00\">value = [6, 0]</text>\n<text text-anchor=\"middle\" x=\"2433\" y=\"-119.3\" font-family=\"Helvetica,sans-Serif\" font-size=\"14.00\">class = ave</text>\n</g>\n<!-- 46&#45;&gt;47 -->\n<g id=\"edge47\" class=\"edge\">\n<title>46&#45;&gt;47</title>\n<path fill=\"none\" stroke=\"black\" d=\"M2433,-222.91C2433,-212.2 2433,-200.62 2433,-189.78\"/>\n<polygon fill=\"black\" stroke=\"black\" points=\"2436.5,-189.67 2433,-179.67 2429.5,-189.67 2436.5,-189.67\"/>\n</g>\n<!-- 48 -->\n<g id=\"node49\" class=\"node\">\n<title>48</title>\n<path fill=\"#399de5\" stroke=\"black\" d=\"M2603,-179.5C2603,-179.5 2511,-179.5 2511,-179.5 2505,-179.5 2499,-173.5 2499,-167.5 2499,-167.5 2499,-123.5 2499,-123.5 2499,-117.5 2505,-111.5 2511,-111.5 2511,-111.5 2603,-111.5 2603,-111.5 2609,-111.5 2615,-117.5 2615,-123.5 2615,-123.5 2615,-167.5 2615,-167.5 2615,-173.5 2609,-179.5 2603,-179.5\"/>\n<text text-anchor=\"middle\" x=\"2557\" y=\"-164.3\" font-family=\"Helvetica,sans-Serif\" font-size=\"14.00\">gini = 0.0</text>\n<text text-anchor=\"middle\" x=\"2557\" y=\"-149.3\" font-family=\"Helvetica,sans-Serif\" font-size=\"14.00\">samples = 2</text>\n<text text-anchor=\"middle\" x=\"2557\" y=\"-134.3\" font-family=\"Helvetica,sans-Serif\" font-size=\"14.00\">value = [0, 2]</text>\n<text text-anchor=\"middle\" x=\"2557\" y=\"-119.3\" font-family=\"Helvetica,sans-Serif\" font-size=\"14.00\">class = excellent</text>\n</g>\n<!-- 46&#45;&gt;48 -->\n<g id=\"edge48\" class=\"edge\">\n<title>46&#45;&gt;48</title>\n<path fill=\"none\" stroke=\"black\" d=\"M2476.02,-222.91C2488.42,-211.21 2501.93,-198.46 2514.31,-186.78\"/>\n<polygon fill=\"black\" stroke=\"black\" points=\"2516.98,-189.08 2521.85,-179.67 2512.17,-183.98 2516.98,-189.08\"/>\n</g>\n</g>\n</svg>\n",
      "text/plain": [
       "<graphviz.files.Source at 0x7f99b334fca0>"
      ]
     },
     "execution_count": 67,
     "metadata": {},
     "output_type": "execute_result"
    }
   ],
   "source": [
    "#Plotting the decision tree for the best estimator \n",
    "dot_data = export_graphviz(best, out_file =None,\n",
    "               feature_names =X.columns, #feature names from dataset\n",
    "               filled=True, \n",
    "                rounded=True, \n",
    "                class_names = ['ave','excellent']) #classification labels \n",
    "               \n",
    "graph=graphviz.Source(dot_data)\n",
    "graph"
   ]
  },
  {
   "cell_type": "code",
   "execution_count": null,
   "metadata": {},
   "outputs": [],
   "source": [
    "#What about the specific scores (roc_auc, recall, balanced_accuracy)? Let's try and extract them to see what we are working with ...\n",
    "print(model.cv_results_) #This is a dictionary and in order to extract info we need the keys"
   ]
  },
  {
   "cell_type": "code",
   "execution_count": null,
   "metadata": {},
   "outputs": [],
   "source": [
    "#Which one of these do we need?\n",
    "print(model.cv_results_.keys()) #get mean_test and std_test for all of our scores, and will need our param_max_depth as well "
   ]
  },
  {
   "cell_type": "code",
   "execution_count": 24,
   "metadata": {},
   "outputs": [
    {
     "ename": "NameError",
     "evalue": "name 'model' is not defined",
     "output_type": "error",
     "traceback": [
      "\u001b[0;31m---------------------------------------------------------------------------\u001b[0m",
      "\u001b[0;31mNameError\u001b[0m                                 Traceback (most recent call last)",
      "\u001b[1;32m/Users/bpugs/Desktop/DS-3001/08_DT_Class/Decision Trees.ipynb Cell 32'\u001b[0m in \u001b[0;36m<cell line: 5>\u001b[0;34m()\u001b[0m\n\u001b[1;32m      <a href='vscode-notebook-cell:/Users/bpugs/Desktop/DS-3001/08_DT_Class/Decision%20Trees.ipynb#ch0000031?line=0'>1</a>\u001b[0m \u001b[39m#Let's extract these scores, using our function!\u001b[39;00m\n\u001b[1;32m      <a href='vscode-notebook-cell:/Users/bpugs/Desktop/DS-3001/08_DT_Class/Decision%20Trees.ipynb#ch0000031?line=1'>2</a>\u001b[0m \n\u001b[1;32m      <a href='vscode-notebook-cell:/Users/bpugs/Desktop/DS-3001/08_DT_Class/Decision%20Trees.ipynb#ch0000031?line=2'>3</a>\u001b[0m \u001b[39m#Scores: \u001b[39;00m\n\u001b[0;32m----> <a href='vscode-notebook-cell:/Users/bpugs/Desktop/DS-3001/08_DT_Class/Decision%20Trees.ipynb#ch0000031?line=4'>5</a>\u001b[0m auc \u001b[39m=\u001b[39m model\u001b[39m.\u001b[39mcv_results_[\u001b[39m'\u001b[39m\u001b[39mmean_test_roc_auc\u001b[39m\u001b[39m'\u001b[39m]\n\u001b[1;32m      <a href='vscode-notebook-cell:/Users/bpugs/Desktop/DS-3001/08_DT_Class/Decision%20Trees.ipynb#ch0000031?line=5'>6</a>\u001b[0m recall\u001b[39m=\u001b[39m model\u001b[39m.\u001b[39mcv_results_[\u001b[39m'\u001b[39m\u001b[39mmean_test_recall\u001b[39m\u001b[39m'\u001b[39m]\n\u001b[1;32m      <a href='vscode-notebook-cell:/Users/bpugs/Desktop/DS-3001/08_DT_Class/Decision%20Trees.ipynb#ch0000031?line=6'>7</a>\u001b[0m bal_acc\u001b[39m=\u001b[39m model\u001b[39m.\u001b[39mcv_results_[\u001b[39m'\u001b[39m\u001b[39mmean_test_balanced_accuracy\u001b[39m\u001b[39m'\u001b[39m]\n",
      "\u001b[0;31mNameError\u001b[0m: name 'model' is not defined"
     ]
    }
   ],
   "source": [
    "#Let's extract these scores, using our function!\n",
    "\n",
    "#Scores: \n",
    "\n",
    "auc = model.cv_results_['mean_test_roc_auc']\n",
    "recall= model.cv_results_['mean_test_recall']\n",
    "bal_acc= model.cv_results_['mean_test_balanced_accuracy']\n",
    "\n",
    "SDauc = model.cv_results_['std_test_roc_auc']\n",
    "SDrecall= model.cv_results_['std_test_recall']\n",
    "SDbal_acc= model.cv_results_['std_test_balanced_accuracy']\n",
    "\n",
    "#Parameter:\n",
    "depth= np.unique(model.cv_results_['param_max_depth']).data\n",
    "\n",
    "#Build DataFrame:\n",
    "final_model = pd.DataFrame(list(zip(depth, auc, recall, bal_acc,SDauc,SDrecall,SDbal_acc)),\n",
    "               columns =['depth','auc','recall','bal_acc','aucSD','recallSD','bal_accSD'])\n",
    "\n",
    "#Let's take a look\n",
    "final_model.style.hide(axis='index')\n"
   ]
  },
  {
   "cell_type": "code",
   "execution_count": null,
   "metadata": {},
   "outputs": [],
   "source": [
    "#Warning!\n",
    "#If we used mutiple params... you won't be able to get the scores as easily\n",
    "#Say we wanted to get the scores based on max_depth still, but this time we used the parameter ccp_alpha as well\n",
    "#Use the np.where function to search for the indices where the other parameter equals their best result, in this say it is .001\n",
    "#This is an example code to find auc: #model.cv_results_['mean_test_roc_auc'][np.where((model.cv_results_['param_ccp_alpha'] == .001))]\n",
    "#Essentially takes indeces and resulting scores where the best parameters were used "
   ]
  },
  {
   "cell_type": "code",
   "execution_count": null,
   "metadata": {},
   "outputs": [],
   "source": [
    "#Check the depth ...\n",
    "print(plt.plot(final_model.depth,final_model.auc)) #5 does in fact have the highest (best) AUC!"
   ]
  },
  {
   "cell_type": "markdown",
   "metadata": {},
   "source": [
    "# Variable Importance"
   ]
  },
  {
   "cell_type": "code",
   "execution_count": null,
   "metadata": {},
   "outputs": [],
   "source": [
    "#Variable importance for the best estimator, how much weight does each feature have in determining the classification?\n",
    "varimp=pd.DataFrame(best.feature_importances_,index = X.columns,columns=['importance']).sort_values('importance', ascending=False)\n",
    "print(varimp)"
   ]
  },
  {
   "cell_type": "code",
   "execution_count": null,
   "metadata": {},
   "outputs": [],
   "source": [
    "#Graph variable importance\n",
    "plt.figure(figsize=(10,7))\n",
    "print(varimp.importance.nlargest(7).plot(kind='barh')) #Alcohol has the largest impact by far!"
   ]
  },
  {
   "cell_type": "markdown",
   "metadata": {},
   "source": [
    "## Let's use the model to predict and the evaluate the performance"
   ]
  },
  {
   "cell_type": "code",
   "execution_count": null,
   "metadata": {},
   "outputs": [],
   "source": [
    "#Confusion Matrix time! Passing our tuning data into our best model, let's see how we do ...\n",
    "print(ConfusionMatrixDisplay.from_estimator(best,X_tune,y_tune, display_labels = ['ave','excellent'], colorbar=False))"
   ]
  },
  {
   "cell_type": "markdown",
   "metadata": {},
   "source": [
    "## Let's play with the threshold, what do we see "
   ]
  },
  {
   "cell_type": "code",
   "execution_count": null,
   "metadata": {},
   "outputs": [],
   "source": [
    "## Adjust threshold function\n",
    "def adjust_thres(model,X,y_true, thres):\n",
    "  #model= best estimator, X= feature vairables, y_true= target variables, thres = threshold\n",
    "  y_pred = (model.predict_proba(X)[:,1] >= thres).astype(np.int32) #essentially changes the prediction cut off to our desired threshold\n",
    "  return metrics.ConfusionMatrixDisplay.from_predictions(y_true,y_pred, display_labels = ['ave','excellent'], colorbar=False)"
   ]
  },
  {
   "cell_type": "code",
   "execution_count": null,
   "metadata": {},
   "outputs": [],
   "source": [
    "#Where should we change the threshold to see a difference...\n",
    "print(pd.DataFrame(model.predict_proba(X_tune)[:,1]).plot.density())"
   ]
  },
  {
   "cell_type": "code",
   "execution_count": null,
   "metadata": {},
   "outputs": [],
   "source": [
    "#Let's try .1 as our new threshold ...\n",
    "print(adjust_thres(best,X_tune, y_tune,.1))"
   ]
  },
  {
   "cell_type": "markdown",
   "metadata": {},
   "source": [
    "## Accuracy Score"
   ]
  },
  {
   "cell_type": "code",
   "execution_count": 45,
   "metadata": {},
   "outputs": [
    {
     "ename": "NameError",
     "evalue": "name 'best' is not defined",
     "output_type": "error",
     "traceback": [
      "\u001b[0;31m---------------------------------------------------------------------------\u001b[0m",
      "\u001b[0;31mNameError\u001b[0m                                 Traceback (most recent call last)",
      "\u001b[1;32m/Users/bpugs/Desktop/DS-3001/08_DT_Class/Decision Trees.ipynb Cell 45'\u001b[0m in \u001b[0;36m<cell line: 1>\u001b[0;34m()\u001b[0m\n\u001b[0;32m----> <a href='vscode-notebook-cell:/Users/bpugs/Desktop/DS-3001/08_DT_Class/Decision%20Trees.ipynb#ch0000179?line=0'>1</a>\u001b[0m \u001b[39mprint\u001b[39m(best\u001b[39m.\u001b[39mscore(X_test,y_test))\n",
      "\u001b[0;31mNameError\u001b[0m: name 'best' is not defined"
     ]
    }
   ],
   "source": [
    "print(best.score(X_test,y_test)) #Pretty precise, nice!"
   ]
  },
  {
   "cell_type": "code",
   "execution_count": null,
   "metadata": {},
   "outputs": [],
   "source": [
    "print(best.score(X_tune,y_tune)) #same with tuning set"
   ]
  },
  {
   "cell_type": "markdown",
   "metadata": {},
   "source": [
    "## Feature Engineering: "
   ]
  },
  {
   "cell_type": "code",
   "execution_count": 18,
   "metadata": {},
   "outputs": [
    {
     "name": "stdout",
     "output_type": "stream",
     "text": [
      "       fixed acidity  volatile acidity  citric acid  residual sugar  \\\n",
      "count    1482.000000       1482.000000  1482.000000     1482.000000   \n",
      "mean        8.320243          0.528870     0.269744        2.548853   \n",
      "std         1.718001          0.180651     0.194912        1.431911   \n",
      "min         4.600000          0.120000     0.000000        0.900000   \n",
      "25%         7.100000          0.390000     0.090000        1.900000   \n",
      "50%         7.900000          0.520000     0.260000        2.200000   \n",
      "75%         9.200000          0.640000     0.420000        2.600000   \n",
      "max        15.900000          1.580000     1.000000       15.500000   \n",
      "\n",
      "         chlorides  free sulfur dioxide  total sulfur dioxide      density  \\\n",
      "count  1482.000000          1482.000000           1482.000000  1482.000000   \n",
      "mean      0.087808            16.018893             46.965587     0.996764   \n",
      "std       0.048015            10.419929             33.141959     0.001868   \n",
      "min       0.012000             1.000000              6.000000     0.990070   \n",
      "25%       0.070000             7.000000             22.000000     0.995653   \n",
      "50%       0.080000            14.000000             38.000000     0.996800   \n",
      "75%       0.091000            22.000000             63.000000     0.997857   \n",
      "max       0.611000            72.000000            289.000000     1.003690   \n",
      "\n",
      "                pH    sulphates      alcohol  \n",
      "count  1482.000000  1482.000000  1482.000000  \n",
      "mean      3.311505     0.659777    10.406545  \n",
      "std       0.153826     0.168406     1.064761  \n",
      "min       2.740000     0.330000     8.400000  \n",
      "25%       3.210000     0.550000     9.500000  \n",
      "50%       3.310000     0.620000    10.100000  \n",
      "75%       3.400000     0.730000    11.100000  \n",
      "max       4.010000     2.000000    14.900000  \n"
     ]
    }
   ],
   "source": [
    "#What feature should we look at?\n",
    "print(winequality.describe())"
   ]
  },
  {
   "cell_type": "code",
   "execution_count": null,
   "metadata": {},
   "outputs": [],
   "source": [
    "# How about total sulfur dioxide ...\n",
    "print(plt.hist(winequality['total sulfur dioxide'], width=15, bins = 15))"
   ]
  },
  {
   "cell_type": "code",
   "execution_count": null,
   "metadata": {},
   "outputs": [],
   "source": [
    "#Get the five number summary, and some...\n",
    "print(winequality['total sulfur dioxide'].describe())"
   ]
  },
  {
   "cell_type": "code",
   "execution_count": null,
   "metadata": {},
   "outputs": [],
   "source": [
    "#make a new dataframe so we can preserve our working environment\n",
    "winequality1 = winequality.copy(deep=True)"
   ]
  },
  {
   "cell_type": "code",
   "execution_count": null,
   "metadata": {},
   "outputs": [],
   "source": [
    "#lump total sulfure dioxide to below and above its median (38)\n",
    "winequality1['total sulfur dioxide']=pd.cut(winequality1['total sulfur dioxide'],(0,37,300), labels = (\"low\",\"high\"))"
   ]
  },
  {
   "cell_type": "code",
   "execution_count": null,
   "metadata": {},
   "outputs": [],
   "source": [
    "#transform it to a numeric variable so we can use it in sklearn decision tree\n",
    "winequality1[[\"total sulfur dioxide\"]] = OrdinalEncoder().fit_transform(winequality1[[\"total sulfur dioxide\"]])"
   ]
  },
  {
   "cell_type": "code",
   "execution_count": null,
   "metadata": {},
   "outputs": [],
   "source": [
    "#Separate features and target \n",
    "X1=winequality1.drop(columns='text_rank')\n",
    "y1=winequality1.text_rank"
   ]
  },
  {
   "cell_type": "code",
   "execution_count": null,
   "metadata": {},
   "outputs": [],
   "source": [
    "#Data splitting\n",
    "X_train1, X_test1, y_train1, y_test1 = train_test_split(X1, y1, train_size=0.70, stratify= y1, random_state=21)\n",
    "X_tune1, X_test1, y_tune1, y_test1 = train_test_split(X_test1,y_test1,  train_size = 0.50,stratify= y_test1, random_state=49)"
   ]
  },
  {
   "cell_type": "code",
   "execution_count": null,
   "metadata": {},
   "outputs": [],
   "source": [
    "#define search, model, paramameters and scoring will be the same...\n",
    "search_eng = GridSearchCV(cl, param, scoring=scoring, n_jobs=-1, cv=kf,refit='roc_auc')\n",
    "\n",
    "#execute search\n",
    "model_eng = search_eng.fit(X_train1, y_train1)"
   ]
  },
  {
   "cell_type": "code",
   "execution_count": null,
   "metadata": {},
   "outputs": [],
   "source": [
    "#Take a look at our best estimator for depth this time\n",
    "best_eng = model_eng.best_estimator_ \n",
    "print(best_eng) #4, a different depth!"
   ]
  },
  {
   "cell_type": "code",
   "execution_count": null,
   "metadata": {},
   "outputs": [],
   "source": [
    "#Check out the mean and standard deviation test scores again ...\n",
    "auc = model_eng.cv_results_['mean_test_roc_auc']\n",
    "recall= model_eng.cv_results_['mean_test_recall']\n",
    "bal_acc= model_eng.cv_results_['mean_test_balanced_accuracy']\n",
    "\n",
    "SDauc = model_eng.cv_results_['std_test_roc_auc']\n",
    "SDrecall= model_eng.cv_results_['std_test_recall']\n",
    "SDbal_acc= model_eng.cv_results_['std_test_balanced_accuracy']\n",
    "\n",
    "#Parameter:\n",
    "depth= np.unique(model_eng.cv_results_['param_max_depth']).data\n",
    "\n",
    "#Build DataFrame:\n",
    "final_model = pd.DataFrame(list(zip(depth, auc, recall, bal_acc,SDauc,SDrecall,SDbal_acc)),\n",
    "               columns =['depth','auc','recall','bal_acc','aucSD','recallSD','bal_accSD'])\n",
    "\n",
    "#Let's take a look\n",
    "final_model.style.hide(axis='index')"
   ]
  },
  {
   "cell_type": "markdown",
   "metadata": {},
   "source": [
    "# Compare the confusion matrices from the two models"
   ]
  },
  {
   "cell_type": "code",
   "execution_count": null,
   "metadata": {},
   "outputs": [],
   "source": [
    "#First model\n",
    "print(ConfusionMatrixDisplay.from_estimator(best,X_tune,y_tune,colorbar=False))"
   ]
  },
  {
   "cell_type": "code",
   "execution_count": null,
   "metadata": {},
   "outputs": [],
   "source": [
    "#New engineered model\n",
    "print(ConfusionMatrixDisplay.from_estimator(best_eng,X_tune1,y_tune1,colorbar=False)) #Better tpr and tnr!"
   ]
  },
  {
   "cell_type": "markdown",
   "metadata": {},
   "source": [
    "## We can also review the variable importance"
   ]
  },
  {
   "cell_type": "code",
   "execution_count": null,
   "metadata": {},
   "outputs": [],
   "source": [
    "#First model\n",
    "print(pd.DataFrame(best.feature_importances_,index = X.columns,columns=['importance']).sort_values('importance', ascending=False))\n"
   ]
  },
  {
   "cell_type": "code",
   "execution_count": null,
   "metadata": {},
   "outputs": [],
   "source": [
    "#Engineered model\n",
    "print(pd.DataFrame(best_eng.feature_importances_,index = X1.columns,columns=['importance']).sort_values('importance', ascending=False))\n",
    "#Smaller model so less variables are considered in the decision making for better or worse..."
   ]
  },
  {
   "cell_type": "markdown",
   "metadata": {},
   "source": [
    "## Predict with test, how did we do? "
   ]
  },
  {
   "cell_type": "code",
   "execution_count": null,
   "metadata": {},
   "outputs": [],
   "source": [
    "#Original model\n",
    "print(ConfusionMatrixDisplay.from_estimator(best,X_test,y_test,colorbar=False))"
   ]
  },
  {
   "cell_type": "code",
   "execution_count": null,
   "metadata": {},
   "outputs": [],
   "source": [
    "#New engineered model\n",
    "print(ConfusionMatrixDisplay.from_estimator(best_eng,X_test1,y_test1,colorbar=False)) #Ultimately, very similar results"
   ]
  },
  {
   "cell_type": "markdown",
   "metadata": {},
   "source": [
    "## How about accuracy score?"
   ]
  },
  {
   "cell_type": "code",
   "execution_count": null,
   "metadata": {},
   "outputs": [],
   "source": [
    "#Original model\n",
    "print(best.score(X_test,y_test)) #accuracy "
   ]
  },
  {
   "cell_type": "code",
   "execution_count": null,
   "metadata": {},
   "outputs": [],
   "source": [
    "#Engineered model\n",
    "print(best_eng.score(X_test1,y_test1)) #Basically the same"
   ]
  },
  {
   "cell_type": "markdown",
   "metadata": {},
   "source": [
    "## Another example with a binary dataset this time!"
   ]
  },
  {
   "cell_type": "code",
   "execution_count": 27,
   "metadata": {},
   "outputs": [],
   "source": [
    "#Load in new dataset\n",
    "pregnancy = pd.read_csv(\"https://raw.githubusercontent.com/UVADS/DS-3001/main/data/pregnancy.csv\")"
   ]
  },
  {
   "cell_type": "code",
   "execution_count": 28,
   "metadata": {},
   "outputs": [
    {
     "name": "stdout",
     "output_type": "stream",
     "text": [
      "<class 'pandas.core.frame.DataFrame'>\n",
      "RangeIndex: 2000 entries, 0 to 1999\n",
      "Data columns (total 16 columns):\n",
      " #   Column                  Non-Null Count  Dtype\n",
      "---  ------                  --------------  -----\n",
      " 0   Pregnancy Test          2000 non-null   int64\n",
      " 1   Birth Control           2000 non-null   int64\n",
      " 2   Feminine Hygiene        2000 non-null   int64\n",
      " 3   Folic Acid              2000 non-null   int64\n",
      " 4   Prenatal Vitamins       2000 non-null   int64\n",
      " 5   Prenatal Yoga           2000 non-null   int64\n",
      " 6   Body Pillow             2000 non-null   int64\n",
      " 7   Ginger Ale              2000 non-null   int64\n",
      " 8   Sea Bands               2000 non-null   int64\n",
      " 9   Stopped buying ciggies  2000 non-null   int64\n",
      " 10  Cigarettes              2000 non-null   int64\n",
      " 11  Smoking Cessation       2000 non-null   int64\n",
      " 12  Stopped buying wine     2000 non-null   int64\n",
      " 13  Wine                    2000 non-null   int64\n",
      " 14  Maternity Clothes       2000 non-null   int64\n",
      " 15  PREGNANT                2000 non-null   int64\n",
      "dtypes: int64(16)\n",
      "memory usage: 250.1 KB\n",
      "None\n",
      "   Pregnancy Test  Birth Control  Feminine Hygiene  Folic Acid  \\\n",
      "0               1              0                 0           0   \n",
      "1               1              0                 0           0   \n",
      "2               1              0                 0           0   \n",
      "3               0              0                 0           0   \n",
      "4               0              0                 0           0   \n",
      "\n",
      "   Prenatal Vitamins  Prenatal Yoga  Body Pillow  Ginger Ale  Sea Bands  \\\n",
      "0                  1              0            0           0          0   \n",
      "1                  1              0            0           0          0   \n",
      "2                  0              0            0           0          1   \n",
      "3                  0              0            0           1          0   \n",
      "4                  0              1            0           0          0   \n",
      "\n",
      "   Stopped buying ciggies  Cigarettes  Smoking Cessation  Stopped buying wine  \\\n",
      "0                       0           0                  0                    0   \n",
      "1                       0           0                  0                    0   \n",
      "2                       0           0                  0                    0   \n",
      "3                       0           0                  0                    0   \n",
      "4                       0           0                  0                    1   \n",
      "\n",
      "   Wine  Maternity Clothes  PREGNANT  \n",
      "0     0                  0         1  \n",
      "1     0                  0         1  \n",
      "2     0                  0         1  \n",
      "3     0                  0         1  \n",
      "4     0                  0         1  \n"
     ]
    }
   ],
   "source": [
    "#Let's get familiar with the data\n",
    "print(pregnancy.info())\n",
    "print(pregnancy.head())"
   ]
  },
  {
   "cell_type": "code",
   "execution_count": 29,
   "metadata": {},
   "outputs": [
    {
     "name": "stdout",
     "output_type": "stream",
     "text": [
      "560\n",
      "2000\n",
      "0.72\n"
     ]
    }
   ],
   "source": [
    "#We want to build a classifier that can predict whether a shopper is pregnant\n",
    "#based on the items they buy so we can direct-market to that customer if possible. \n",
    "\n",
    "print(pregnancy.PREGNANT.sum())\n",
    "print(len(pregnancy.PREGNANT))\n",
    "\n",
    "print((1- pregnancy.PREGNANT.sum()/len(pregnancy.PREGNANT)))\n",
    "#What does .72 represent in this context? Prevalence of not being pregnant"
   ]
  },
  {
   "cell_type": "markdown",
   "metadata": {},
   "source": [
    "# reformat for exploration purposes"
   ]
  },
  {
   "cell_type": "code",
   "execution_count": 30,
   "metadata": {},
   "outputs": [
    {
     "name": "stdout",
     "output_type": "stream",
     "text": [
      "   PREGNANT        variable  value\n",
      "0         1  Pregnancy Test      1\n",
      "1         1  Pregnancy Test      1\n",
      "2         1  Pregnancy Test      1\n",
      "3         1  Pregnancy Test      0\n",
      "4         1  Pregnancy Test      0\n"
     ]
    }
   ],
   "source": [
    "#Creating a vertical dataframe for the pregnant variable, just stacking the variables on top of each other. \n",
    "#First get the column names of features then use pd.melt based on the Pregnancy variable\n",
    "feature_cols = pregnancy.drop(columns='PREGNANT').columns\n",
    "pregnancy_long = df = pd.melt(pregnancy, id_vars='PREGNANT', value_vars=feature_cols,\n",
    "             var_name='variable', value_name='value')\n",
    "\n",
    "\n",
    "print(pregnancy_long.head())"
   ]
  },
  {
   "cell_type": "markdown",
   "metadata": {},
   "source": [
    "# See what the base rate likihood of pregnancy looks like for each variable"
   ]
  },
  {
   "cell_type": "code",
   "execution_count": 31,
   "metadata": {},
   "outputs": [
    {
     "name": "stdout",
     "output_type": "stream",
     "text": [
      "                       Var  Value  prob_pregnant  prob_not_pregnant\n",
      "0           Pregnancy Test      0       0.254441           0.745559\n",
      "1           Pregnancy Test      1       0.848837           0.151163\n",
      "2            Birth Control      0       0.327859           0.672141\n",
      "3            Birth Control      1       0.058989           0.941011\n",
      "4         Feminine Hygiene      0       0.321212           0.678788\n",
      "5         Feminine Hygiene      1       0.085714           0.914286\n",
      "6               Folic Acid      0       0.234792           0.765208\n",
      "7               Folic Acid      1       0.952381           0.047619\n",
      "8        Prenatal Vitamins      0       0.236741           0.763259\n",
      "9        Prenatal Vitamins      1       0.742690           0.257310\n",
      "10           Prenatal Yoga      0       0.273647           0.726353\n",
      "11           Prenatal Yoga      1       0.826087           0.173913\n",
      "12             Body Pillow      0       0.276596           0.723404\n",
      "13             Body Pillow      1       0.538462           0.461538\n",
      "14              Ginger Ale      0       0.261717           0.738283\n",
      "15              Ginger Ale      1       0.623762           0.376238\n",
      "16               Sea Bands      0       0.271845           0.728155\n",
      "17               Sea Bands      1       0.651163           0.348837\n",
      "18  Stopped buying ciggies      0       0.255113           0.744887\n",
      "19  Stopped buying ciggies      1       0.605634           0.394366\n",
      "20              Cigarettes      0       0.305413           0.694587\n",
      "21              Cigarettes      1       0.097959           0.902041\n",
      "22       Smoking Cessation      0       0.261523           0.738477\n",
      "23       Smoking Cessation      1       0.797101           0.202899\n",
      "24     Stopped buying wine      0       0.242458           0.757542\n",
      "25     Stopped buying wine      1       0.600000           0.400000\n",
      "26                    Wine      0       0.317612           0.682388\n",
      "27                    Wine      1       0.086154           0.913846\n",
      "28       Maternity Clothes      0       0.239956           0.760044\n",
      "29       Maternity Clothes      1       0.677596           0.322404\n"
     ]
    }
   ],
   "source": [
    "# Calculate the probability of being pregnant by predictor variable.\n",
    "# First let's create a new list to store our probability data\n",
    "data=[]\n",
    "#loop through features and retrieve probability of pregnancy for whether it is bought or not bought\n",
    "#Since the data is binary you can take the average to get the probability.\n",
    "for col in feature_cols:\n",
    "    x = pregnancy.groupby([col])['PREGNANT'].mean()\n",
    "    data.extend([[col,0,x[0]],[col,1,x[1]]])\n",
    "base_rate = pd.DataFrame(data, columns = ['Var', 'Value','prob_pregnant'])\n",
    "base_rate['prob_not_pregnant']= 1-base_rate.prob_pregnant\n",
    "print(base_rate)"
   ]
  },
  {
   "cell_type": "markdown",
   "metadata": {},
   "source": [
    "# Build  the model "
   ]
  },
  {
   "cell_type": "code",
   "execution_count": 32,
   "metadata": {},
   "outputs": [],
   "source": [
    "#Split between features and target and do a three way split\n",
    "X_preg=pregnancy.drop(columns='PREGNANT')\n",
    "y_preg=pregnancy.PREGNANT\n",
    "X_train_preg, X_test_preg, y_train_preg, y_test_preg = train_test_split(X_preg, y_preg, train_size=0.70, stratify= y_preg, random_state=21)\n",
    "X_tune_preg, X_test_preg, y_tune_preg, y_test_preg = train_test_split(X_test_preg,y_test_preg,  train_size = 0.50,stratify= y_test_preg, random_state=49)"
   ]
  },
  {
   "cell_type": "code",
   "execution_count": 33,
   "metadata": {},
   "outputs": [],
   "source": [
    "#This time we are going to use a different technique to complete our hyper-parameter search\n",
    "\n",
    "#define our model, still using the same classifier as before\n",
    "cl2=DecisionTreeClassifier(random_state=1000)\n",
    "\n",
    "#prune our model using minimal cost-complexity pruning, this is an algorithm used to prune a tree to avoid over-fitting\n",
    "path = cl2.cost_complexity_pruning_path(X_train_preg, y_train_preg)\n",
    "ccp_alphas, impurities = path.ccp_alphas, path.impurities"
   ]
  },
  {
   "cell_type": "code",
   "execution_count": 34,
   "metadata": {},
   "outputs": [
    {
     "data": {
      "text/plain": [
       "Text(0.5, 1.0, 'Total Impurity vs effective alpha for training set')"
      ]
     },
     "execution_count": 34,
     "metadata": {},
     "output_type": "execute_result"
    },
    {
     "data": {
      "image/png": "[encoded data removed]",
      "text/plain": [
       "<Figure size 1332x756 with 1 Axes>"
      ]
     },
     "metadata": {
      "needs_background": "light"
     },
     "output_type": "display_data"
    }
   ],
   "source": [
    "#Let's do some exploration into what cost complexity alpha gives the best results without overfitting or underfitting ...\n",
    "fig, ax = plt.subplots()\n",
    "#In the following plot, the maximum effective alpha value is removed, because it is the trivial tree with only one node\n",
    "fig.set_size_inches(18.5, 10.5, forward=True)\n",
    "plt.xticks(ticks=np.arange(0.00,0.06,.0025))\n",
    "ax.plot(ccp_alphas[:-1], impurities[:-1], marker=\"o\", drawstyle=\"steps-post\")\n",
    "ax.set_xlabel(\"effective alpha\")\n",
    "ax.set_ylabel(\"total impurity of leaves\")\n",
    "ax.set_title(\"Total Impurity vs effective alpha for training set\")\n",
    "#As alpha increases, more of the tree is pruned, which increases the total impurity of its leaves."
   ]
  },
  {
   "cell_type": "code",
   "execution_count": 35,
   "metadata": {},
   "outputs": [],
   "source": [
    "#run through all of our alphas and create fitted decision tree classifiers for them so we can explore even further\n",
    "clfs = []\n",
    "for ccp_alpha in ccp_alphas:\n",
    "    clf = DecisionTreeClassifier(random_state=0, ccp_alpha=ccp_alpha)\n",
    "    clf.fit(X_train_preg, y_train_preg)\n",
    "    clfs.append(clf)\n"
   ]
  },
  {
   "cell_type": "code",
   "execution_count": 36,
   "metadata": {},
   "outputs": [
    {
     "data": {
      "image/png": "[encoded data removed]",
      "text/plain": [
       "<Figure size 1332x756 with 2 Axes>"
      ]
     },
     "metadata": {
      "needs_background": "light"
     },
     "output_type": "display_data"
    }
   ],
   "source": [
    "#we remove the last element in clfs and ccp_alphas, because it is the trivial tree with only one node. \n",
    "clfs = clfs[:-1]\n",
    "ccp_alphas = ccp_alphas[:-1]\n",
    "\n",
    "# Here we show that the number of nodes and tree depth decreases as alpha increases, makes sense since the tree is getting smaller\n",
    "node_counts = [clf.tree_.node_count for clf in clfs]\n",
    "depth = [clf.tree_.max_depth for clf in clfs]\n",
    "fig, ax = plt.subplots(2, 1)\n",
    "ax[0].plot(ccp_alphas, node_counts, marker=\"o\", drawstyle=\"steps-post\")\n",
    "ax[0].set_xlabel(\"alpha\")\n",
    "ax[0].set_ylabel(\"number of nodes\")\n",
    "ax[0].set_title(\"Number of nodes vs alpha\")\n",
    "ax[1].plot(ccp_alphas, depth, marker=\"o\", drawstyle=\"steps-post\")\n",
    "ax[1].set_xlabel(\"alpha\")\n",
    "ax[1].set_ylabel(\"depth of tree\")\n",
    "ax[1].set_title(\"Depth vs alpha\")\n",
    "fig.set_size_inches(18.5, 10.5, forward=True)\n",
    "plt.xticks(ticks=np.arange(0.00,0.06,.0025))\n",
    "fig.tight_layout()"
   ]
  },
  {
   "cell_type": "code",
   "execution_count": 37,
   "metadata": {},
   "outputs": [
    {
     "data": {
      "image/png": "[encoded data removed]",
      "text/plain": [
       "<Figure size 1332x756 with 1 Axes>"
      ]
     },
     "metadata": {
      "needs_background": "light"
     },
     "output_type": "display_data"
    }
   ],
   "source": [
    "#When ccp_alpha is set to zero and keeping the other default parameters of DecisionTreeClassifier, \n",
    "#the tree overfits, leading to a 100% training accuracy and less testing accuracy. \n",
    "#As alpha increases, more of the tree is pruned, thus creating a decision tree that generalizes better. \n",
    "#Let's try and find the alpha where we get the highest accuracy for both training and testing data simultaneously \n",
    "train_scores = [clf.score(X_train_preg, y_train_preg) for clf in clfs]\n",
    "test_scores = [clf.score(X_tune_preg, y_tune_preg) for clf in clfs]\n",
    "fig, ax = plt.subplots()\n",
    "ax.set_xlabel(\"alpha\")\n",
    "ax.set_ylabel(\"accuracy\")\n",
    "ax.set_title(\"Accuracy vs alpha for training and testing sets\")\n",
    "ax.plot(ccp_alphas, train_scores, marker=\"o\", label=\"train\", drawstyle=\"steps-post\")\n",
    "ax.plot(ccp_alphas, test_scores, marker=\"o\", label=\"test\", drawstyle=\"steps-post\")\n",
    "ax.legend()\n",
    "plt.xticks(ticks=np.arange(0.00,0.06,.0025))\n",
    "fig.set_size_inches(18.5, 10.5, forward=True)\n",
    "plt.show()\n",
    "#In this example, setting ccp_alpha=0.001 maximizes the testing accuracy."
   ]
  },
  {
   "cell_type": "code",
   "execution_count": 38,
   "metadata": {},
   "outputs": [
    {
     "data": {
      "text/plain": [
       "0.8433333333333334"
      ]
     },
     "execution_count": 38,
     "metadata": {},
     "output_type": "execute_result"
    }
   ],
   "source": [
    "#Let's take a look to get an exact value\n",
    "tree=DecisionTreeClassifier(ccp_alpha= 0.001)\n",
    "tree.fit(X_train_preg,y_train_preg)"
   ]
  },
  {
   "cell_type": "markdown",
   "metadata": {},
   "source": [
    "# Variable Importance"
   ]
  },
  {
   "cell_type": "code",
   "execution_count": 39,
   "metadata": {},
   "outputs": [
    {
     "name": "stdout",
     "output_type": "stream",
     "text": [
      "                        importance\n",
      "Folic Acid                0.282159\n",
      "Prenatal Vitamins         0.157229\n",
      "Pregnancy Test            0.117627\n",
      "Maternity Clothes         0.097533\n",
      "Stopped buying wine       0.073541\n",
      "Feminine Hygiene          0.064128\n",
      "Birth Control             0.063039\n",
      "Smoking Cessation         0.030172\n",
      "Ginger Ale                0.029064\n",
      "Wine                      0.024732\n",
      "Cigarettes                0.023650\n",
      "Stopped buying ciggies    0.018642\n",
      "Sea Bands                 0.013422\n",
      "Body Pillow               0.005061\n",
      "Prenatal Yoga             0.000000\n"
     ]
    }
   ],
   "source": [
    "#Shows the reduction in error provided by including a given variable \n",
    "print(pd.DataFrame(tree.feature_importances_,index = X_preg.columns,columns=['importance']).sort_values('importance', ascending=False))"
   ]
  },
  {
   "cell_type": "markdown",
   "metadata": {},
   "source": [
    "# Test the accuracy "
   ]
  },
  {
   "cell_type": "code",
   "execution_count": 40,
   "metadata": {},
   "outputs": [
    {
     "data": {
      "text/plain": [
       "0.8433333333333334"
      ]
     },
     "execution_count": 40,
     "metadata": {},
     "output_type": "execute_result"
    }
   ],
   "source": [
    "tree.score(X_test_preg,y_test_preg) #84% accurate, nice!"
   ]
  },
  {
   "cell_type": "code",
   "execution_count": 41,
   "metadata": {},
   "outputs": [
    {
     "data": {
      "text/plain": [
       "<sklearn.metrics._plot.confusion_matrix.ConfusionMatrixDisplay at 0x7f99bba25ee0>"
      ]
     },
     "execution_count": 41,
     "metadata": {},
     "output_type": "execute_result"
    },
    {
     "data": {
      "image/png": "[encoded data removed]",
      "text/plain": [
       "<Figure size 432x288 with 1 Axes>"
      ]
     },
     "metadata": {
      "needs_background": "light"
     },
     "output_type": "display_data"
    }
   ],
   "source": [
    "#Confusion matrix\n",
    "ConfusionMatrixDisplay.from_estimator(tree,X_test_preg,y_test_preg, colorbar = False)"
   ]
  },
  {
   "cell_type": "markdown",
   "metadata": {},
   "source": [
    "## Hit Rate or True Classification Rate, Detection Rate and ROC"
   ]
  },
  {
   "cell_type": "code",
   "execution_count": 42,
   "metadata": {},
   "outputs": [
    {
     "name": "stdout",
     "output_type": "stream",
     "text": [
      "Hit Rate/True Error Rate = 15.666666666666668\n"
     ]
    }
   ],
   "source": [
    "# The error rate is defined as a classification of \"Pregnant\" when \n",
    "# this is not the case, and vice versa. It's the sum of all the\n",
    "# values where a column contains the opposite value of the row.\n",
    "pred_preg = tree.predict(X_test_preg)\n",
    "tn, fp, fn, tp = metrics.confusion_matrix(y_test_preg,pred_preg).ravel()\n",
    "# The error rate divides this figure by the total number of data points\n",
    "# for which the forecast is created.\n",
    "print(\"Hit Rate/True Error Rate = \"+ str((fp+fn)/len(y_test_preg)*100))"
   ]
  },
  {
   "cell_type": "code",
   "execution_count": 43,
   "metadata": {},
   "outputs": [
    {
     "name": "stdout",
     "output_type": "stream",
     "text": [
      "Detection Rate = 18.333333333333332\n"
     ]
    }
   ],
   "source": [
    "#Detection Rate is the rate at which the algo detects the positive class in proportion to the entire classification A/(A+B+C+D) where A is poss poss\n",
    "print(\"Detection Rate = \" +str((tp)/len(y_test_preg)*100)) #want this to be higher but there is only so high it can go..."
   ]
  },
  {
   "cell_type": "code",
   "execution_count": 44,
   "metadata": {},
   "outputs": [
    {
     "data": {
      "text/plain": [
       "Text(0.5, 0, 'False Positive Rate')"
      ]
     },
     "execution_count": 44,
     "metadata": {},
     "output_type": "execute_result"
    },
    {
     "data": {
      "image/png": "[encoded data removed]",
      "text/plain": [
       "<Figure size 432x288 with 1 Axes>"
      ]
     },
     "metadata": {
      "needs_background": "light"
     },
     "output_type": "display_data"
    }
   ],
   "source": [
    "#Building the evaluation ROC and AUC using the predicted and original target variables \n",
    "metrics.RocCurveDisplay.from_predictions(y_test_preg,pred_preg)\n",
    "#Set labels and midline...\n",
    "plt.plot([0, 1], [0, 1],'r--')\n",
    "plt.ylabel('True Positive Rate')\n",
    "plt.xlabel('False Positive Rate')"
   ]
  },
  {
   "cell_type": "code",
   "execution_count": null,
   "metadata": {},
   "outputs": [],
   "source": [
    "#We can adjust using a if else statement and the predicted prob, now we have to be 75% sure to classify as pregnant\n",
    "pred_adjusted = (tree.predict_proba(X_test_preg)[:,1] >= .75).astype(np.int32)\n",
    "metrics.RocCurveDisplay.from_predictions(y_test_preg,pred_adjusted)\n",
    "plt.plot([0, 1], [0, 1],'r--')\n",
    "plt.ylabel('True Positive Rate')\n",
    "plt.xlabel('False Positive Rate')"
   ]
  },
  {
   "cell_type": "markdown",
   "metadata": {},
   "source": [
    "# We can also prune the tree to make it less complex "
   ]
  },
  {
   "cell_type": "code",
   "execution_count": null,
   "metadata": {},
   "outputs": [],
   "source": [
    "#Set parameters for our model, this time let's use the complexity parameter or the value of the splitting criterion \n",
    "param2={\"max_depth\" : [1,2,3,4,5,6,7],\n",
    "        #\"splitter\":[\"best\",\"random\"],\n",
    "        #'criterion': ['gini','entropy'],\n",
    "        #\"min_samples_split\":[5,10,15,20,25],\n",
    "        #\"min_samples_leaf\":[2,4,6,8,10],\n",
    "        #\"min_weight_fraction_leaf\":[0,0.1,0.2,0.3,0.4,0.5,0.6,0.7,0.8,0.9],\n",
    "        #\"max_features\":[\"auto\",\"log2\",\"sqrt\",None],\n",
    "        #\"max_leaf_nodes\":[10,20,30,40,50],\n",
    "        #'min_impurity_decrease':[0.00005,0.0001,0.0002,0.0005,0.001,0.0015,0.002,0.005,0.01],\n",
    "        'ccp_alpha' : [.001]\n",
    "           }\n",
    "# set our model\n",
    "cl2=DecisionTreeClassifier(random_state=1000)\n",
    "# set scoring\n",
    "scoring2= ['roc_auc','recall','balanced_accuracy']\n",
    "# define search\n",
    "search_preg = GridSearchCV(cl2, param2, scoring=scoring2, n_jobs=-1, cv=kf,refit='roc_auc') \n",
    "#execute search\n",
    "model_preg = search_preg.fit(X_train_preg, y_train_preg)\n",
    "\n",
    "#Let's get our results!\n",
    "best_preg= model_preg.best_estimator_\n",
    "print(best_preg) #Now only has a max depth of 7"
   ]
  },
  {
   "cell_type": "code",
   "execution_count": null,
   "metadata": {},
   "outputs": [],
   "source": [
    "print(tree.tree_.max_depth) #A lot better than 14!"
   ]
  },
  {
   "cell_type": "code",
   "execution_count": null,
   "metadata": {},
   "outputs": [],
   "source": [
    "#let's take a look\n",
    "dot_data = export_graphviz(best_preg, out_file =None,\n",
    "               feature_names =X_preg.columns, #column names of our features\n",
    "               filled=True, \n",
    "                rounded=True,\n",
    "                class_names=['no','yes']) #classification labels\n",
    "               \n",
    "graph_preg=graphviz.Source(dot_data)\n",
    "graph_preg"
   ]
  },
  {
   "cell_type": "code",
   "execution_count": 46,
   "metadata": {},
   "outputs": [
    {
     "ename": "NameError",
     "evalue": "name 'best_preg' is not defined",
     "output_type": "error",
     "traceback": [
      "\u001b[0;31m---------------------------------------------------------------------------\u001b[0m",
      "\u001b[0;31mNameError\u001b[0m                                 Traceback (most recent call last)",
      "\u001b[1;32m/Users/bpugs/Desktop/DS-3001/08_DT_Class/Decision Trees.ipynb Cell 101'\u001b[0m in \u001b[0;36m<cell line: 1>\u001b[0;34m()\u001b[0m\n\u001b[0;32m----> <a href='vscode-notebook-cell:/Users/bpugs/Desktop/DS-3001/08_DT_Class/Decision%20Trees.ipynb#ch0000149?line=0'>1</a>\u001b[0m best_preg\u001b[39m.\u001b[39mscore(X_test_preg,y_test_preg)\n",
      "\u001b[0;31mNameError\u001b[0m: name 'best_preg' is not defined"
     ]
    }
   ],
   "source": [
    "best_preg.score(X_test_preg,y_test_preg) #Same accuracy as well!"
   ]
  }
 ],
 "metadata": {
  "interpreter": {
   "hash": "40d3a090f54c6569ab1632332b64b2c03c39dcf918b08424e98f38b5ae0af88f"
  },
  "kernelspec": {
   "display_name": "Python 3.9.12 ('base')",
   "language": "python",
   "name": "python3"
  },
  "language_info": {
   "codemirror_mode": {
    "name": "ipython",
    "version": 3
   },
   "file_extension": ".py",
   "mimetype": "text/x-python",
   "name": "python",
   "nbconvert_exporter": "python",
   "pygments_lexer": "ipython3",
   "version": "3.9.12"
  },
  "orig_nbformat": 4
 },
 "nbformat": 4,
 "nbformat_minor": 2
}
